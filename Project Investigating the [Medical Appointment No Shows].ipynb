{
 "cells": [
  {
   "cell_type": "code",
   "execution_count": 1,
   "metadata": {},
   "outputs": [
    {
     "data": {
      "text/html": [
       "<style type=\"text/css\">\n",
       "table.dataframe td, table.dataframe th {\n",
       "    border: 2px  black solid !important;\n",
       "    padding: 2px  black solid !important;\n",
       "    margin: 2px  black solid !important;\n",
       "  color: black !important;\n",
       "}\n",
       "</style>\n"
      ],
      "text/plain": [
       "<IPython.core.display.HTML object>"
      ]
     },
     "metadata": {},
     "output_type": "display_data"
    }
   ],
   "source": [
    "%%HTML\n",
    "<style type=\"text/css\">\n",
    "table.dataframe td, table.dataframe th {\n",
    "    border: 2px  black solid !important;\n",
    "    padding: 2px  black solid !important;\n",
    "    margin: 2px  black solid !important;\n",
    "  color: black !important;\n",
    "}\n",
    "</style>"
   ]
  },
  {
   "cell_type": "markdown",
   "metadata": {},
   "source": [
    "# Project: Investigating the [Medical Appointment No Shows]\n",
    "\n",
    "\n",
    "### Table of Contents\n",
    "<ul>\n",
    "<li><a href=\"#intro\">1) Introduction</a></li>\n",
    "<li><a href=\"#quest\">2) Questions</a></li>\n",
    "<li><a href=\"#wrangling\">3) Data Wrangling</a></li>\n",
    "       <ul>\n",
    "        <li><a href=\"#gather\">Load packages & gathering data</a></li>\n",
    "        <li><a href=\"#assess\">Assessing data</a></li>\n",
    "        <li><a href=\"#clean\">Cleaning and trimming data</a></li>\n",
    "       </ul>\n",
    "<li><a href=\"#eda\">4) Exploratory Data Analysis</a></li>\n",
    "       <ul>\n",
    "        <li><a href=\"#rq1\">Research Question</a></li>\n",
    "       </ul>\n",
    "<li><a href=\"#conclusions\">5) Conclusions</a></li>\n",
    "<li><a href=\"#references\">6) References</a></li>\n",
    "</ul>"
   ]
  },
  {
   "cell_type": "markdown",
   "metadata": {},
   "source": [
    "<a id='intro'></a>\n",
    "## 1) Introduction <a href=\"#top\"></a>\n",
    "\n",
    ">  Based on my choice, in this project I’ll analyze the [No-show appointments(original source on Kaggle)](https://www.kaggle.com/joniarroba/noshowappointments/kernels) dataset, it’s a dataset who holds informations about 110.527 medical appointments of different patients from different neighborhoods in Brazil.\n",
    "<br /> This dataset is built for the purpose of finding out the reasons that made patients not showed up at their scheduled\n",
    "appointment. Thus, it contains one dependent variable called `No-Show` (which take the ‘No’ cardinality when the patient shows up at the scheduled appointment and ‘Yes’ when he don't show up), and to understand the reasons for this behavior, 13 other variables were collected in parallel with the main information, which is the showing up or not at each medical appointment.\n",
    "\n",
    "\n",
    "\n",
    "\n",
    "> You can see more details about the 14 data's features in the table below:\n",
    "\n",
    "| N° \t| Feature        \t| Description                                                                                                                                \t|\n",
    "|:----:\t|:----------------\t|:--------------------------------------------------------------------------------------------------------------------------------------------\t|\n",
    "| 1  \t| **PatientId**      \t| Identification of a patient                                                                                                                \t|\n",
    "| 2  \t| **AppointmentID**  \t| The day someone called or registered the appointment, this is before appointment of course.                                                \t|\n",
    "| 3  \t| **Gender**         \t| Male or Female . Female is the greater proportion, woman takes way more care of they health in comparison to man.                          \t|\n",
    "| 4  \t| **ScheduledDay**   \t| The day of the actuall appointment, when they have to visit the doctor.                                                                    \t|\n",
    "| 5  \t| **AppointmentDay** \t| The day someone called or registered the appointment, this is before appointment of course.                                                \t|\n",
    "| 6  \t| **Age**            \t| How old is the patient.                                                                                                                    \t|\n",
    "| 7  \t| **Neighbourhood**  \t| Where the appointment takes place.                                                                                                         \t|\n",
    "| 8  \t| **Scholarship**    \t| True of False . Observation, this is a broad topic, consider reading this article [here](https://en.wikipedia.org/wiki/Bolsa_Fam%C3%ADlia) \t|\n",
    "| 9  \t| **Hipertension**   \t| True or False                                                                                                                              \t|\n",
    "| 10 \t| **Diabetes**       \t| True or False                                                                                                                              \t|\n",
    "| 11 \t| **Alcoholism**     \t| True or False                                                                                                                              \t|\n",
    "| 12 \t| **Handcap**        \t| True or False                                                                                                                              \t|\n",
    "| 13 \t| **SMS_received**   \t| 1 or more messages sent to the patient.                                                                                                    \t|\n",
    "| 14 \t| **No-show**        \t| 'No' the patient showed up;'Yes' for a no-show                                                                                             \t|\n",
    "\n",
    "<br/>\n"
   ]
  },
  {
   "cell_type": "markdown",
   "metadata": {},
   "source": [
    "<a id='quest'></a>\n",
    "## 2)  Questions <a href=\"#top\"></a>\n",
    "### Main question:What are the factors that affect the patients attendance?\n",
    "\n",
    "### Intermediate questions:\n",
    "* What is the overall rate of patients for both (show up / not show up) at the medical appointment?\n",
    "* How many patients are female and are male, and what's the proportion of no-showing up at the appointment for each Gender?\n",
    "* What are the characteristics of patients in terms of age? \n",
    "* How many patients  and what's the no-showing rate for each age category?\n",
    "* How many patients have (a scholarship / don't have it), and what's the proportion of no-showing up at the appointment for each situation?\n",
    "* How many patients have( hypertension / don't have it), and what's the proportion of no-showing up at the appointment for each situation?\n",
    "* How many patients are (diabetics / not diabetics), and what's the proportion of no-showing up at the appointment for each situation?"
   ]
  },
  {
   "cell_type": "markdown",
   "metadata": {},
   "source": [
    "<a id='wrangling'></a>\n",
    "## 3) Data Wrangling <a href=\"#top\"></a>\n",
    "\n",
    "> **In this section I'll proceed through three stages:**\n",
    "* Load packages & gathering data\n",
    "* Assessing data\n",
    "* Cleaning and trimming data"
   ]
  },
  {
   "cell_type": "markdown",
   "metadata": {},
   "source": [
    "<a id='gather'></a>\n",
    "**1) Loading required libraries & gathering data** <a href=\"#top\"></a>"
   ]
  },
  {
   "cell_type": "code",
   "execution_count": 2,
   "metadata": {},
   "outputs": [],
   "source": [
    "# import the modules that we need for analysis\n",
    "import pandas as pd\n",
    "import numpy as np\n",
    "import matplotlib.pyplot as plt\n",
    "import seaborn as sns\n",
    "sns.set_style('darkgrid')\n",
    "%matplotlib inline"
   ]
  },
  {
   "cell_type": "code",
   "execution_count": 3,
   "metadata": {},
   "outputs": [
    {
     "name": "stdout",
     "output_type": "stream",
     "text": [
      "(110527, 14)\n"
     ]
    },
    {
     "data": {
      "text/html": [
       "<div>\n",
       "<style scoped>\n",
       "    .dataframe tbody tr th:only-of-type {\n",
       "        vertical-align: middle;\n",
       "    }\n",
       "\n",
       "    .dataframe tbody tr th {\n",
       "        vertical-align: top;\n",
       "    }\n",
       "\n",
       "    .dataframe thead th {\n",
       "        text-align: right;\n",
       "    }\n",
       "</style>\n",
       "<table border=\"1\" class=\"dataframe\">\n",
       "  <thead>\n",
       "    <tr style=\"text-align: right;\">\n",
       "      <th></th>\n",
       "      <th>PatientId</th>\n",
       "      <th>AppointmentID</th>\n",
       "      <th>ScheduledDay</th>\n",
       "      <th>AppointmentDay</th>\n",
       "      <th>Gender</th>\n",
       "      <th>Age</th>\n",
       "      <th>Neighbourhood</th>\n",
       "      <th>Scholarship</th>\n",
       "      <th>Hipertension</th>\n",
       "      <th>Diabetes</th>\n",
       "      <th>Alcoholism</th>\n",
       "      <th>Handcap</th>\n",
       "      <th>SMS_received</th>\n",
       "      <th>No-show</th>\n",
       "    </tr>\n",
       "  </thead>\n",
       "  <tbody>\n",
       "    <tr>\n",
       "      <th>0</th>\n",
       "      <td>2.990000e+13</td>\n",
       "      <td>5642903</td>\n",
       "      <td>29/04/2016 20:38</td>\n",
       "      <td>29/04/2016 02:00</td>\n",
       "      <td>F</td>\n",
       "      <td>62</td>\n",
       "      <td>JARDIM DA PENHA</td>\n",
       "      <td>0</td>\n",
       "      <td>1</td>\n",
       "      <td>0</td>\n",
       "      <td>0</td>\n",
       "      <td>0</td>\n",
       "      <td>0</td>\n",
       "      <td>No</td>\n",
       "    </tr>\n",
       "    <tr>\n",
       "      <th>1</th>\n",
       "      <td>5.590000e+14</td>\n",
       "      <td>5642503</td>\n",
       "      <td>29/04/2016 18:08</td>\n",
       "      <td>29/04/2016 02:00</td>\n",
       "      <td>M</td>\n",
       "      <td>56</td>\n",
       "      <td>JARDIM DA PENHA</td>\n",
       "      <td>0</td>\n",
       "      <td>0</td>\n",
       "      <td>0</td>\n",
       "      <td>0</td>\n",
       "      <td>0</td>\n",
       "      <td>0</td>\n",
       "      <td>No</td>\n",
       "    </tr>\n",
       "    <tr>\n",
       "      <th>2</th>\n",
       "      <td>4.260000e+12</td>\n",
       "      <td>5642549</td>\n",
       "      <td>29/04/2016 18:19</td>\n",
       "      <td>29/04/2016 02:00</td>\n",
       "      <td>F</td>\n",
       "      <td>62</td>\n",
       "      <td>MATA DA PRAIA</td>\n",
       "      <td>0</td>\n",
       "      <td>0</td>\n",
       "      <td>0</td>\n",
       "      <td>0</td>\n",
       "      <td>0</td>\n",
       "      <td>0</td>\n",
       "      <td>No</td>\n",
       "    </tr>\n",
       "    <tr>\n",
       "      <th>3</th>\n",
       "      <td>8.680000e+11</td>\n",
       "      <td>5642828</td>\n",
       "      <td>29/04/2016 19:29</td>\n",
       "      <td>29/04/2016 02:00</td>\n",
       "      <td>F</td>\n",
       "      <td>8</td>\n",
       "      <td>PONTAL DE CAMBURI</td>\n",
       "      <td>0</td>\n",
       "      <td>0</td>\n",
       "      <td>0</td>\n",
       "      <td>0</td>\n",
       "      <td>0</td>\n",
       "      <td>0</td>\n",
       "      <td>No</td>\n",
       "    </tr>\n",
       "    <tr>\n",
       "      <th>4</th>\n",
       "      <td>8.840000e+12</td>\n",
       "      <td>5642494</td>\n",
       "      <td>29/04/2016 18:07</td>\n",
       "      <td>29/04/2016 02:00</td>\n",
       "      <td>F</td>\n",
       "      <td>56</td>\n",
       "      <td>JARDIM DA PENHA</td>\n",
       "      <td>0</td>\n",
       "      <td>1</td>\n",
       "      <td>1</td>\n",
       "      <td>0</td>\n",
       "      <td>0</td>\n",
       "      <td>0</td>\n",
       "      <td>No</td>\n",
       "    </tr>\n",
       "  </tbody>\n",
       "</table>\n",
       "</div>"
      ],
      "text/plain": [
       "      PatientId  AppointmentID      ScheduledDay    AppointmentDay Gender  \\\n",
       "0  2.990000e+13        5642903  29/04/2016 20:38  29/04/2016 02:00      F   \n",
       "1  5.590000e+14        5642503  29/04/2016 18:08  29/04/2016 02:00      M   \n",
       "2  4.260000e+12        5642549  29/04/2016 18:19  29/04/2016 02:00      F   \n",
       "3  8.680000e+11        5642828  29/04/2016 19:29  29/04/2016 02:00      F   \n",
       "4  8.840000e+12        5642494  29/04/2016 18:07  29/04/2016 02:00      F   \n",
       "\n",
       "   Age      Neighbourhood  Scholarship  Hipertension  Diabetes  Alcoholism  \\\n",
       "0   62    JARDIM DA PENHA            0             1         0           0   \n",
       "1   56    JARDIM DA PENHA            0             0         0           0   \n",
       "2   62      MATA DA PRAIA            0             0         0           0   \n",
       "3    8  PONTAL DE CAMBURI            0             0         0           0   \n",
       "4   56    JARDIM DA PENHA            0             1         1           0   \n",
       "\n",
       "   Handcap  SMS_received No-show  \n",
       "0        0             0      No  \n",
       "1        0             0      No  \n",
       "2        0             0      No  \n",
       "3        0             0      No  \n",
       "4        0             0      No  "
      ]
     },
     "execution_count": 3,
     "metadata": {},
     "output_type": "execute_result"
    }
   ],
   "source": [
    "# loading the 'Medical Appointment No Slows' dataset\n",
    "df = pd.read_csv('Downloads/data/Patient Appointment project/Medical Appointment No Slows.csv', sep=';' , encoding='utf8')\n",
    "# data overview\n",
    "print(df.shape)\n",
    "df.head()"
   ]
  },
  {
   "cell_type": "markdown",
   "metadata": {},
   "source": [
    " <a id='assess'></a>\n",
    " **2) Assessing data** <a href=\"#top\"></a>\n",
    "  > * In this section I'll try to identify any problems in my data's quality or structure"
   ]
  },
  {
   "cell_type": "code",
   "execution_count": 4,
   "metadata": {},
   "outputs": [
    {
     "data": {
      "text/html": [
       "<div>\n",
       "<style scoped>\n",
       "    .dataframe tbody tr th:only-of-type {\n",
       "        vertical-align: middle;\n",
       "    }\n",
       "\n",
       "    .dataframe tbody tr th {\n",
       "        vertical-align: top;\n",
       "    }\n",
       "\n",
       "    .dataframe thead th {\n",
       "        text-align: right;\n",
       "    }\n",
       "</style>\n",
       "<table border=\"1\" class=\"dataframe\">\n",
       "  <thead>\n",
       "    <tr style=\"text-align: right;\">\n",
       "      <th></th>\n",
       "      <th>PatientId</th>\n",
       "      <th>AppointmentID</th>\n",
       "      <th>ScheduledDay</th>\n",
       "      <th>AppointmentDay</th>\n",
       "      <th>Gender</th>\n",
       "      <th>Age</th>\n",
       "      <th>Neighbourhood</th>\n",
       "      <th>Scholarship</th>\n",
       "      <th>Hipertension</th>\n",
       "      <th>Diabetes</th>\n",
       "      <th>Alcoholism</th>\n",
       "      <th>Handcap</th>\n",
       "      <th>SMS_received</th>\n",
       "      <th>No-show</th>\n",
       "    </tr>\n",
       "  </thead>\n",
       "  <tbody>\n",
       "    <tr>\n",
       "      <th>45252</th>\n",
       "      <td>9.150000e+12</td>\n",
       "      <td>5678341</td>\n",
       "      <td>10/05/2016 10:22</td>\n",
       "      <td>24/05/2016 02:00</td>\n",
       "      <td>M</td>\n",
       "      <td>68</td>\n",
       "      <td>SANTO ANT?”NIO</td>\n",
       "      <td>0</td>\n",
       "      <td>0</td>\n",
       "      <td>0</td>\n",
       "      <td>0</td>\n",
       "      <td>0</td>\n",
       "      <td>1</td>\n",
       "      <td>No</td>\n",
       "    </tr>\n",
       "    <tr>\n",
       "      <th>29503</th>\n",
       "      <td>9.890000e+14</td>\n",
       "      <td>5598648</td>\n",
       "      <td>19/04/2016 09:50</td>\n",
       "      <td>05/05/2016 02:00</td>\n",
       "      <td>F</td>\n",
       "      <td>44</td>\n",
       "      <td>ROM?ƒO</td>\n",
       "      <td>1</td>\n",
       "      <td>0</td>\n",
       "      <td>0</td>\n",
       "      <td>0</td>\n",
       "      <td>0</td>\n",
       "      <td>1</td>\n",
       "      <td>Yes</td>\n",
       "    </tr>\n",
       "    <tr>\n",
       "      <th>48093</th>\n",
       "      <td>9.280000e+14</td>\n",
       "      <td>5698519</td>\n",
       "      <td>16/05/2016 09:37</td>\n",
       "      <td>18/05/2016 02:00</td>\n",
       "      <td>F</td>\n",
       "      <td>39</td>\n",
       "      <td>JARDIM DA PENHA</td>\n",
       "      <td>0</td>\n",
       "      <td>0</td>\n",
       "      <td>0</td>\n",
       "      <td>0</td>\n",
       "      <td>0</td>\n",
       "      <td>0</td>\n",
       "      <td>No</td>\n",
       "    </tr>\n",
       "    <tr>\n",
       "      <th>83833</th>\n",
       "      <td>2.860000e+12</td>\n",
       "      <td>5705499</td>\n",
       "      <td>17/05/2016 09:14</td>\n",
       "      <td>30/05/2016 02:00</td>\n",
       "      <td>F</td>\n",
       "      <td>35</td>\n",
       "      <td>TABUAZEIRO</td>\n",
       "      <td>0</td>\n",
       "      <td>0</td>\n",
       "      <td>0</td>\n",
       "      <td>0</td>\n",
       "      <td>0</td>\n",
       "      <td>1</td>\n",
       "      <td>No</td>\n",
       "    </tr>\n",
       "    <tr>\n",
       "      <th>37027</th>\n",
       "      <td>1.640000e+12</td>\n",
       "      <td>5639038</td>\n",
       "      <td>29/04/2016 10:40</td>\n",
       "      <td>04/05/2016 02:00</td>\n",
       "      <td>F</td>\n",
       "      <td>73</td>\n",
       "      <td>RESIST??NCIA</td>\n",
       "      <td>0</td>\n",
       "      <td>1</td>\n",
       "      <td>0</td>\n",
       "      <td>0</td>\n",
       "      <td>0</td>\n",
       "      <td>1</td>\n",
       "      <td>No</td>\n",
       "    </tr>\n",
       "    <tr>\n",
       "      <th>77912</th>\n",
       "      <td>5.350000e+13</td>\n",
       "      <td>5681281</td>\n",
       "      <td>10/05/2016 15:59</td>\n",
       "      <td>19/05/2016 02:00</td>\n",
       "      <td>M</td>\n",
       "      <td>2</td>\n",
       "      <td>BONFIM</td>\n",
       "      <td>0</td>\n",
       "      <td>0</td>\n",
       "      <td>0</td>\n",
       "      <td>0</td>\n",
       "      <td>0</td>\n",
       "      <td>0</td>\n",
       "      <td>No</td>\n",
       "    </tr>\n",
       "    <tr>\n",
       "      <th>70997</th>\n",
       "      <td>5.680000e+14</td>\n",
       "      <td>5470391</td>\n",
       "      <td>15/03/2016 12:29</td>\n",
       "      <td>20/05/2016 02:00</td>\n",
       "      <td>F</td>\n",
       "      <td>49</td>\n",
       "      <td>FONTE GRANDE</td>\n",
       "      <td>0</td>\n",
       "      <td>0</td>\n",
       "      <td>0</td>\n",
       "      <td>0</td>\n",
       "      <td>0</td>\n",
       "      <td>0</td>\n",
       "      <td>No</td>\n",
       "    </tr>\n",
       "    <tr>\n",
       "      <th>107160</th>\n",
       "      <td>7.190000e+14</td>\n",
       "      <td>5760977</td>\n",
       "      <td>01/06/2016 18:06</td>\n",
       "      <td>01/06/2016 02:00</td>\n",
       "      <td>F</td>\n",
       "      <td>64</td>\n",
       "      <td>ILHA DE SANTA MARIA</td>\n",
       "      <td>0</td>\n",
       "      <td>0</td>\n",
       "      <td>0</td>\n",
       "      <td>0</td>\n",
       "      <td>0</td>\n",
       "      <td>0</td>\n",
       "      <td>No</td>\n",
       "    </tr>\n",
       "    <tr>\n",
       "      <th>1774</th>\n",
       "      <td>2.790000e+12</td>\n",
       "      <td>5641564</td>\n",
       "      <td>29/04/2016 15:57</td>\n",
       "      <td>29/04/2016 02:00</td>\n",
       "      <td>F</td>\n",
       "      <td>35</td>\n",
       "      <td>CENTRO</td>\n",
       "      <td>0</td>\n",
       "      <td>0</td>\n",
       "      <td>0</td>\n",
       "      <td>0</td>\n",
       "      <td>0</td>\n",
       "      <td>0</td>\n",
       "      <td>No</td>\n",
       "    </tr>\n",
       "    <tr>\n",
       "      <th>11882</th>\n",
       "      <td>5.240000e+11</td>\n",
       "      <td>5692549</td>\n",
       "      <td>12/05/2016 17:39</td>\n",
       "      <td>16/05/2016 02:00</td>\n",
       "      <td>F</td>\n",
       "      <td>49</td>\n",
       "      <td>INHANGUET??</td>\n",
       "      <td>0</td>\n",
       "      <td>0</td>\n",
       "      <td>0</td>\n",
       "      <td>0</td>\n",
       "      <td>0</td>\n",
       "      <td>0</td>\n",
       "      <td>No</td>\n",
       "    </tr>\n",
       "  </tbody>\n",
       "</table>\n",
       "</div>"
      ],
      "text/plain": [
       "           PatientId  AppointmentID      ScheduledDay    AppointmentDay  \\\n",
       "45252   9.150000e+12        5678341  10/05/2016 10:22  24/05/2016 02:00   \n",
       "29503   9.890000e+14        5598648  19/04/2016 09:50  05/05/2016 02:00   \n",
       "48093   9.280000e+14        5698519  16/05/2016 09:37  18/05/2016 02:00   \n",
       "83833   2.860000e+12        5705499  17/05/2016 09:14  30/05/2016 02:00   \n",
       "37027   1.640000e+12        5639038  29/04/2016 10:40  04/05/2016 02:00   \n",
       "77912   5.350000e+13        5681281  10/05/2016 15:59  19/05/2016 02:00   \n",
       "70997   5.680000e+14        5470391  15/03/2016 12:29  20/05/2016 02:00   \n",
       "107160  7.190000e+14        5760977  01/06/2016 18:06  01/06/2016 02:00   \n",
       "1774    2.790000e+12        5641564  29/04/2016 15:57  29/04/2016 02:00   \n",
       "11882   5.240000e+11        5692549  12/05/2016 17:39  16/05/2016 02:00   \n",
       "\n",
       "       Gender  Age        Neighbourhood  Scholarship  Hipertension  Diabetes  \\\n",
       "45252       M   68       SANTO ANT?”NIO            0             0         0   \n",
       "29503       F   44               ROM?ƒO            1             0         0   \n",
       "48093       F   39      JARDIM DA PENHA            0             0         0   \n",
       "83833       F   35           TABUAZEIRO            0             0         0   \n",
       "37027       F   73         RESIST??NCIA            0             1         0   \n",
       "77912       M    2               BONFIM            0             0         0   \n",
       "70997       F   49         FONTE GRANDE            0             0         0   \n",
       "107160      F   64  ILHA DE SANTA MARIA            0             0         0   \n",
       "1774        F   35               CENTRO            0             0         0   \n",
       "11882       F   49          INHANGUET??            0             0         0   \n",
       "\n",
       "        Alcoholism  Handcap  SMS_received No-show  \n",
       "45252            0        0             1      No  \n",
       "29503            0        0             1     Yes  \n",
       "48093            0        0             0      No  \n",
       "83833            0        0             1      No  \n",
       "37027            0        0             1      No  \n",
       "77912            0        0             0      No  \n",
       "70997            0        0             0      No  \n",
       "107160           0        0             0      No  \n",
       "1774             0        0             0      No  \n",
       "11882            0        0             0      No  "
      ]
     },
     "execution_count": 4,
     "metadata": {},
     "output_type": "execute_result"
    }
   ],
   "source": [
    "# take sample on the data \n",
    "df.sample(10)"
   ]
  },
  {
   "cell_type": "code",
   "execution_count": 5,
   "metadata": {},
   "outputs": [
    {
     "name": "stdout",
     "output_type": "stream",
     "text": [
      "<class 'pandas.core.frame.DataFrame'>\n",
      "RangeIndex: 110527 entries, 0 to 110526\n",
      "Data columns (total 14 columns):\n",
      " #   Column          Non-Null Count   Dtype  \n",
      "---  ------          --------------   -----  \n",
      " 0   PatientId       110527 non-null  float64\n",
      " 1   AppointmentID   110527 non-null  int64  \n",
      " 2   ScheduledDay    110527 non-null  object \n",
      " 3   AppointmentDay  110527 non-null  object \n",
      " 4   Gender          110527 non-null  object \n",
      " 5   Age             110527 non-null  int64  \n",
      " 6   Neighbourhood   110527 non-null  object \n",
      " 7   Scholarship     110527 non-null  int64  \n",
      " 8   Hipertension    110527 non-null  int64  \n",
      " 9   Diabetes        110527 non-null  int64  \n",
      " 10  Alcoholism      110527 non-null  int64  \n",
      " 11  Handcap         110527 non-null  int64  \n",
      " 12  SMS_received    110527 non-null  int64  \n",
      " 13  No-show         110527 non-null  object \n",
      "dtypes: float64(1), int64(8), object(5)\n",
      "memory usage: 11.8+ MB\n"
     ]
    }
   ],
   "source": [
    "# git information about data\n",
    "df.info()"
   ]
  },
  {
   "cell_type": "markdown",
   "metadata": {},
   "source": [
    "> **observations:**\n",
    "* there are some issues in the columns names that should be fixed.\n",
    "* there are no missed values.\n",
    "* the data type of `PatientId` should be turned from 'float' to 'int'.\n",
    "* the data type of `ScheduledDay` and `AppointmentDay` is wrong, it should be turned to 'datetime'.\n",
    "* the variables ['Scholarship', 'Hipertension', 'Diabetes', 'Alcoholism', 'Handcap', 'SMS_received', 'No-show] are categorical, so their data type should be as 'category'."
   ]
  },
  {
   "cell_type": "code",
   "execution_count": 6,
   "metadata": {
    "scrolled": true
   },
   "outputs": [
    {
     "data": {
      "text/html": [
       "<div>\n",
       "<style scoped>\n",
       "    .dataframe tbody tr th:only-of-type {\n",
       "        vertical-align: middle;\n",
       "    }\n",
       "\n",
       "    .dataframe tbody tr th {\n",
       "        vertical-align: top;\n",
       "    }\n",
       "\n",
       "    .dataframe thead th {\n",
       "        text-align: right;\n",
       "    }\n",
       "</style>\n",
       "<table border=\"1\" class=\"dataframe\">\n",
       "  <thead>\n",
       "    <tr style=\"text-align: right;\">\n",
       "      <th></th>\n",
       "      <th>PatientId</th>\n",
       "      <th>AppointmentID</th>\n",
       "      <th>Age</th>\n",
       "      <th>Scholarship</th>\n",
       "      <th>Hipertension</th>\n",
       "      <th>Diabetes</th>\n",
       "      <th>Alcoholism</th>\n",
       "      <th>Handcap</th>\n",
       "      <th>SMS_received</th>\n",
       "    </tr>\n",
       "  </thead>\n",
       "  <tbody>\n",
       "    <tr>\n",
       "      <th>count</th>\n",
       "      <td>1.105270e+05</td>\n",
       "      <td>1.105270e+05</td>\n",
       "      <td>110527.000000</td>\n",
       "      <td>110527.000000</td>\n",
       "      <td>110527.000000</td>\n",
       "      <td>110527.000000</td>\n",
       "      <td>110527.000000</td>\n",
       "      <td>110527.000000</td>\n",
       "      <td>110527.000000</td>\n",
       "    </tr>\n",
       "    <tr>\n",
       "      <th>mean</th>\n",
       "      <td>1.474961e+14</td>\n",
       "      <td>5.675305e+06</td>\n",
       "      <td>37.088874</td>\n",
       "      <td>0.098266</td>\n",
       "      <td>0.197246</td>\n",
       "      <td>0.071865</td>\n",
       "      <td>0.030400</td>\n",
       "      <td>0.022248</td>\n",
       "      <td>0.321026</td>\n",
       "    </tr>\n",
       "    <tr>\n",
       "      <th>std</th>\n",
       "      <td>2.560943e+14</td>\n",
       "      <td>7.129575e+04</td>\n",
       "      <td>23.110205</td>\n",
       "      <td>0.297675</td>\n",
       "      <td>0.397921</td>\n",
       "      <td>0.258265</td>\n",
       "      <td>0.171686</td>\n",
       "      <td>0.161543</td>\n",
       "      <td>0.466873</td>\n",
       "    </tr>\n",
       "    <tr>\n",
       "      <th>min</th>\n",
       "      <td>3.921800e+04</td>\n",
       "      <td>5.030230e+06</td>\n",
       "      <td>-1.000000</td>\n",
       "      <td>0.000000</td>\n",
       "      <td>0.000000</td>\n",
       "      <td>0.000000</td>\n",
       "      <td>0.000000</td>\n",
       "      <td>0.000000</td>\n",
       "      <td>0.000000</td>\n",
       "    </tr>\n",
       "    <tr>\n",
       "      <th>25%</th>\n",
       "      <td>4.170000e+12</td>\n",
       "      <td>5.640286e+06</td>\n",
       "      <td>18.000000</td>\n",
       "      <td>0.000000</td>\n",
       "      <td>0.000000</td>\n",
       "      <td>0.000000</td>\n",
       "      <td>0.000000</td>\n",
       "      <td>0.000000</td>\n",
       "      <td>0.000000</td>\n",
       "    </tr>\n",
       "    <tr>\n",
       "      <th>50%</th>\n",
       "      <td>3.170000e+13</td>\n",
       "      <td>5.680573e+06</td>\n",
       "      <td>37.000000</td>\n",
       "      <td>0.000000</td>\n",
       "      <td>0.000000</td>\n",
       "      <td>0.000000</td>\n",
       "      <td>0.000000</td>\n",
       "      <td>0.000000</td>\n",
       "      <td>0.000000</td>\n",
       "    </tr>\n",
       "    <tr>\n",
       "      <th>75%</th>\n",
       "      <td>9.440000e+13</td>\n",
       "      <td>5.725524e+06</td>\n",
       "      <td>55.000000</td>\n",
       "      <td>0.000000</td>\n",
       "      <td>0.000000</td>\n",
       "      <td>0.000000</td>\n",
       "      <td>0.000000</td>\n",
       "      <td>0.000000</td>\n",
       "      <td>1.000000</td>\n",
       "    </tr>\n",
       "    <tr>\n",
       "      <th>max</th>\n",
       "      <td>1.000000e+15</td>\n",
       "      <td>5.790484e+06</td>\n",
       "      <td>115.000000</td>\n",
       "      <td>1.000000</td>\n",
       "      <td>1.000000</td>\n",
       "      <td>1.000000</td>\n",
       "      <td>1.000000</td>\n",
       "      <td>4.000000</td>\n",
       "      <td>1.000000</td>\n",
       "    </tr>\n",
       "  </tbody>\n",
       "</table>\n",
       "</div>"
      ],
      "text/plain": [
       "          PatientId  AppointmentID            Age    Scholarship  \\\n",
       "count  1.105270e+05   1.105270e+05  110527.000000  110527.000000   \n",
       "mean   1.474961e+14   5.675305e+06      37.088874       0.098266   \n",
       "std    2.560943e+14   7.129575e+04      23.110205       0.297675   \n",
       "min    3.921800e+04   5.030230e+06      -1.000000       0.000000   \n",
       "25%    4.170000e+12   5.640286e+06      18.000000       0.000000   \n",
       "50%    3.170000e+13   5.680573e+06      37.000000       0.000000   \n",
       "75%    9.440000e+13   5.725524e+06      55.000000       0.000000   \n",
       "max    1.000000e+15   5.790484e+06     115.000000       1.000000   \n",
       "\n",
       "        Hipertension       Diabetes     Alcoholism        Handcap  \\\n",
       "count  110527.000000  110527.000000  110527.000000  110527.000000   \n",
       "mean        0.197246       0.071865       0.030400       0.022248   \n",
       "std         0.397921       0.258265       0.171686       0.161543   \n",
       "min         0.000000       0.000000       0.000000       0.000000   \n",
       "25%         0.000000       0.000000       0.000000       0.000000   \n",
       "50%         0.000000       0.000000       0.000000       0.000000   \n",
       "75%         0.000000       0.000000       0.000000       0.000000   \n",
       "max         1.000000       1.000000       1.000000       4.000000   \n",
       "\n",
       "        SMS_received  \n",
       "count  110527.000000  \n",
       "mean        0.321026  \n",
       "std         0.466873  \n",
       "min         0.000000  \n",
       "25%         0.000000  \n",
       "50%         0.000000  \n",
       "75%         1.000000  \n",
       "max         1.000000  "
      ]
     },
     "execution_count": 6,
     "metadata": {},
     "output_type": "execute_result"
    }
   ],
   "source": [
    "# Describeing data\n",
    "df.describe()"
   ]
  },
  {
   "cell_type": "code",
   "execution_count": 7,
   "metadata": {},
   "outputs": [
    {
     "data": {
      "text/html": [
       "<div>\n",
       "<style scoped>\n",
       "    .dataframe tbody tr th:only-of-type {\n",
       "        vertical-align: middle;\n",
       "    }\n",
       "\n",
       "    .dataframe tbody tr th {\n",
       "        vertical-align: top;\n",
       "    }\n",
       "\n",
       "    .dataframe thead th {\n",
       "        text-align: right;\n",
       "    }\n",
       "</style>\n",
       "<table border=\"1\" class=\"dataframe\">\n",
       "  <thead>\n",
       "    <tr style=\"text-align: right;\">\n",
       "      <th></th>\n",
       "      <th>PatientId</th>\n",
       "      <th>AppointmentID</th>\n",
       "      <th>ScheduledDay</th>\n",
       "      <th>AppointmentDay</th>\n",
       "      <th>Gender</th>\n",
       "      <th>Age</th>\n",
       "      <th>Neighbourhood</th>\n",
       "      <th>Scholarship</th>\n",
       "      <th>Hipertension</th>\n",
       "      <th>Diabetes</th>\n",
       "      <th>Alcoholism</th>\n",
       "      <th>Handcap</th>\n",
       "      <th>SMS_received</th>\n",
       "      <th>No-show</th>\n",
       "    </tr>\n",
       "  </thead>\n",
       "  <tbody>\n",
       "    <tr>\n",
       "      <th>99832</th>\n",
       "      <td>4.660000e+14</td>\n",
       "      <td>5775010</td>\n",
       "      <td>06/06/2016 10:58</td>\n",
       "      <td>06/06/2016 02:00</td>\n",
       "      <td>F</td>\n",
       "      <td>-1</td>\n",
       "      <td>ROM?ƒO</td>\n",
       "      <td>0</td>\n",
       "      <td>0</td>\n",
       "      <td>0</td>\n",
       "      <td>0</td>\n",
       "      <td>0</td>\n",
       "      <td>0</td>\n",
       "      <td>No</td>\n",
       "    </tr>\n",
       "  </tbody>\n",
       "</table>\n",
       "</div>"
      ],
      "text/plain": [
       "          PatientId  AppointmentID      ScheduledDay    AppointmentDay Gender  \\\n",
       "99832  4.660000e+14        5775010  06/06/2016 10:58  06/06/2016 02:00      F   \n",
       "\n",
       "       Age Neighbourhood  Scholarship  Hipertension  Diabetes  Alcoholism  \\\n",
       "99832   -1        ROM?ƒO            0             0         0           0   \n",
       "\n",
       "       Handcap  SMS_received No-show  \n",
       "99832        0             0      No  "
      ]
     },
     "execution_count": 7,
     "metadata": {},
     "output_type": "execute_result"
    }
   ],
   "source": [
    "# test\n",
    "df.query('Age < 0')"
   ]
  },
  {
   "cell_type": "code",
   "execution_count": 8,
   "metadata": {},
   "outputs": [
    {
     "data": {
      "text/plain": [
       "0    108286\n",
       "1      2042\n",
       "2       183\n",
       "3        13\n",
       "4         3\n",
       "Name: Handcap, dtype: int64"
      ]
     },
     "execution_count": 8,
     "metadata": {},
     "output_type": "execute_result"
    }
   ],
   "source": [
    "# test\n",
    "df['Handcap'].value_counts()"
   ]
  },
  {
   "cell_type": "markdown",
   "metadata": {},
   "source": [
    "> **observation:**\n",
    "* The minimum value of the `age` variable equal -1, less than 0!\n",
    "* We see that the `Handcap` has values other than 0 and 1 and that doesn't make sence so we drop these"
   ]
  },
  {
   "cell_type": "code",
   "execution_count": 9,
   "metadata": {},
   "outputs": [
    {
     "data": {
      "text/plain": [
       "0"
      ]
     },
     "execution_count": 9,
     "metadata": {},
     "output_type": "execute_result"
    }
   ],
   "source": [
    "# know the data  duplicated \n",
    "df.duplicated().sum()"
   ]
  },
  {
   "cell_type": "markdown",
   "metadata": {},
   "source": [
    "> **observation:**\n",
    "* there are not duplicate data"
   ]
  },
  {
   "cell_type": "code",
   "execution_count": 10,
   "metadata": {},
   "outputs": [
    {
     "data": {
      "text/plain": [
       "PatientId           6100\n",
       "AppointmentID     110527\n",
       "ScheduledDay       28590\n",
       "AppointmentDay        27\n",
       "Gender                 2\n",
       "Age                  104\n",
       "Neighbourhood         81\n",
       "Scholarship            2\n",
       "Hipertension           2\n",
       "Diabetes               2\n",
       "Alcoholism             2\n",
       "Handcap                5\n",
       "SMS_received           2\n",
       "No-show                2\n",
       "dtype: int64"
      ]
     },
     "execution_count": 10,
     "metadata": {},
     "output_type": "execute_result"
    }
   ],
   "source": [
    "# Print Unique Values\n",
    "df.nunique()"
   ]
  },
  {
   "cell_type": "markdown",
   "metadata": {},
   "source": [
    " <a id='clean'></a>\n",
    "**3) Cleaning data** <a href=\"#top\"></a>\n",
    " > **In this section I'll go through the steps below:**\n",
    " * Renaming to relevant column names\n",
    " * Converting variables to the correct data types\n",
    " * Triming data regarding the variables needed in the research questions"
   ]
  },
  {
   "cell_type": "code",
   "execution_count": 11,
   "metadata": {},
   "outputs": [
    {
     "data": {
      "text/plain": [
       "['PatientId',\n",
       " 'AppointmentID',\n",
       " 'ScheduledDay',\n",
       " 'AppointmentDay',\n",
       " 'Gender',\n",
       " 'Age',\n",
       " 'Neighbourhood',\n",
       " 'Scholarship',\n",
       " 'Hipertension',\n",
       " 'Diabetes',\n",
       " 'Alcoholism',\n",
       " 'Handcap',\n",
       " 'SMS_received',\n",
       " 'No-show']"
      ]
     },
     "execution_count": 11,
     "metadata": {},
     "output_type": "execute_result"
    }
   ],
   "source": [
    "# current columns' names\n",
    "list(df.columns)"
   ]
  },
  {
   "cell_type": "code",
   "execution_count": 12,
   "metadata": {},
   "outputs": [
    {
     "data": {
      "text/html": [
       "<div>\n",
       "<style scoped>\n",
       "    .dataframe tbody tr th:only-of-type {\n",
       "        vertical-align: middle;\n",
       "    }\n",
       "\n",
       "    .dataframe tbody tr th {\n",
       "        vertical-align: top;\n",
       "    }\n",
       "\n",
       "    .dataframe thead th {\n",
       "        text-align: right;\n",
       "    }\n",
       "</style>\n",
       "<table border=\"1\" class=\"dataframe\">\n",
       "  <thead>\n",
       "    <tr style=\"text-align: right;\">\n",
       "      <th></th>\n",
       "      <th>patient_id</th>\n",
       "      <th>appointment_id</th>\n",
       "      <th>scheduled_day</th>\n",
       "      <th>appointment_day</th>\n",
       "      <th>gender</th>\n",
       "      <th>age</th>\n",
       "      <th>neighbourhood</th>\n",
       "      <th>scholarship</th>\n",
       "      <th>hypertension</th>\n",
       "      <th>diabetes</th>\n",
       "      <th>alcoholism</th>\n",
       "      <th>handicap</th>\n",
       "      <th>sms_received</th>\n",
       "      <th>appointment</th>\n",
       "    </tr>\n",
       "  </thead>\n",
       "  <tbody>\n",
       "    <tr>\n",
       "      <th>0</th>\n",
       "      <td>2.990000e+13</td>\n",
       "      <td>5642903</td>\n",
       "      <td>29/04/2016 20:38</td>\n",
       "      <td>29/04/2016 02:00</td>\n",
       "      <td>F</td>\n",
       "      <td>62</td>\n",
       "      <td>JARDIM DA PENHA</td>\n",
       "      <td>0</td>\n",
       "      <td>1</td>\n",
       "      <td>0</td>\n",
       "      <td>0</td>\n",
       "      <td>0</td>\n",
       "      <td>0</td>\n",
       "      <td>No</td>\n",
       "    </tr>\n",
       "    <tr>\n",
       "      <th>1</th>\n",
       "      <td>5.590000e+14</td>\n",
       "      <td>5642503</td>\n",
       "      <td>29/04/2016 18:08</td>\n",
       "      <td>29/04/2016 02:00</td>\n",
       "      <td>M</td>\n",
       "      <td>56</td>\n",
       "      <td>JARDIM DA PENHA</td>\n",
       "      <td>0</td>\n",
       "      <td>0</td>\n",
       "      <td>0</td>\n",
       "      <td>0</td>\n",
       "      <td>0</td>\n",
       "      <td>0</td>\n",
       "      <td>No</td>\n",
       "    </tr>\n",
       "    <tr>\n",
       "      <th>2</th>\n",
       "      <td>4.260000e+12</td>\n",
       "      <td>5642549</td>\n",
       "      <td>29/04/2016 18:19</td>\n",
       "      <td>29/04/2016 02:00</td>\n",
       "      <td>F</td>\n",
       "      <td>62</td>\n",
       "      <td>MATA DA PRAIA</td>\n",
       "      <td>0</td>\n",
       "      <td>0</td>\n",
       "      <td>0</td>\n",
       "      <td>0</td>\n",
       "      <td>0</td>\n",
       "      <td>0</td>\n",
       "      <td>No</td>\n",
       "    </tr>\n",
       "  </tbody>\n",
       "</table>\n",
       "</div>"
      ],
      "text/plain": [
       "     patient_id  appointment_id     scheduled_day   appointment_day gender  \\\n",
       "0  2.990000e+13         5642903  29/04/2016 20:38  29/04/2016 02:00      F   \n",
       "1  5.590000e+14         5642503  29/04/2016 18:08  29/04/2016 02:00      M   \n",
       "2  4.260000e+12         5642549  29/04/2016 18:19  29/04/2016 02:00      F   \n",
       "\n",
       "   age    neighbourhood  scholarship  hypertension  diabetes  alcoholism  \\\n",
       "0   62  JARDIM DA PENHA            0             1         0           0   \n",
       "1   56  JARDIM DA PENHA            0             0         0           0   \n",
       "2   62    MATA DA PRAIA            0             0         0           0   \n",
       "\n",
       "   handicap  sms_received appointment  \n",
       "0         0             0          No  \n",
       "1         0             0          No  \n",
       "2         0             0          No  "
      ]
     },
     "execution_count": 12,
     "metadata": {},
     "output_type": "execute_result"
    }
   ],
   "source": [
    "# Rename incorrect columns' names and makes it all a lower case\n",
    "new_columns = ['patient_id', 'appointment_id',  'scheduled_day','appointment_day',\n",
    "       'gender','age', 'neighbourhood', 'scholarship', 'hypertension',\n",
    "       'diabetes', 'alcoholism', 'handicap', 'sms_received', 'appointment']\n",
    "df.columns = new_columns\n",
    "# test\n",
    "df.head(n=3)"
   ]
  },
  {
   "cell_type": "code",
   "execution_count": 13,
   "metadata": {},
   "outputs": [
    {
     "data": {
      "text/plain": [
       "dtype('int64')"
      ]
     },
     "execution_count": 13,
     "metadata": {},
     "output_type": "execute_result"
    }
   ],
   "source": [
    "# Convert PatientId from Float to Integer\n",
    "df['patient_id'] = df['patient_id'].astype('int64')\n",
    "# test\n",
    "df['patient_id'].dtypes"
   ]
  },
  {
   "cell_type": "code",
   "execution_count": 14,
   "metadata": {},
   "outputs": [
    {
     "data": {
      "text/plain": [
       "array([0, 1], dtype=int64)"
      ]
     },
     "execution_count": 14,
     "metadata": {},
     "output_type": "execute_result"
    }
   ],
   "source": [
    "# We see that the handcap has values other than 0 and 1 and that doesn't make sence so we drop these\n",
    "df = df[df['handicap'] < 2]\n",
    "# test\n",
    "df['handicap'].unique()"
   ]
  },
  {
   "cell_type": "code",
   "execution_count": 15,
   "metadata": {},
   "outputs": [
    {
     "name": "stdout",
     "output_type": "stream",
     "text": [
      "<class 'pandas.core.frame.DataFrame'>\n",
      "Int64Index: 110328 entries, 0 to 110526\n",
      "Data columns (total 14 columns):\n",
      " #   Column           Non-Null Count   Dtype   \n",
      "---  ------           --------------   -----   \n",
      " 0   patient_id       110328 non-null  int64   \n",
      " 1   appointment_id   110328 non-null  int64   \n",
      " 2   scheduled_day    110328 non-null  object  \n",
      " 3   appointment_day  110328 non-null  object  \n",
      " 4   gender           110328 non-null  category\n",
      " 5   age              110328 non-null  int64   \n",
      " 6   neighbourhood    110328 non-null  object  \n",
      " 7   scholarship      110328 non-null  category\n",
      " 8   hypertension     110328 non-null  category\n",
      " 9   diabetes         110328 non-null  category\n",
      " 10  alcoholism       110328 non-null  category\n",
      " 11  handicap         110328 non-null  category\n",
      " 12  sms_received     110328 non-null  category\n",
      " 13  appointment      110328 non-null  category\n",
      "dtypes: category(8), int64(3), object(3)\n",
      "memory usage: 6.7+ MB\n"
     ]
    }
   ],
   "source": [
    "# convert all the categorical variables from 'int' to 'category' type\n",
    "df['gender'] = df['gender'].astype('category')\n",
    "df['scholarship'] = df['scholarship'].astype('category')\n",
    "df['hypertension'] = df['hypertension'].astype('category')\n",
    "df['diabetes'] = df['diabetes'].astype('category')\n",
    "df['alcoholism'] = df['alcoholism'].astype('category')\n",
    "df['handicap'] = df['handicap'].astype('category')\n",
    "df['sms_received'] = df['sms_received'].astype('category')\n",
    "df['appointment'] = df['appointment'].astype('category');\n",
    "# test\n",
    "df.info()"
   ]
  },
  {
   "cell_type": "code",
   "execution_count": 16,
   "metadata": {},
   "outputs": [],
   "source": [
    "# Change the data type to a categorical type to facilitate analysis\n",
    "df['appointment'].cat.rename_categories(['Show','No Show'], inplace = True)\n",
    "df['gender'].cat.rename_categories(['Female','Male'], inplace = True)\n",
    "df['scholarship'].cat.rename_categories(['No Scholarship','Scholarship'], inplace = True)\n",
    "df['hypertension'].cat.rename_categories(['No Hypertension','Hypertension'], inplace = True)\n",
    "df['diabetes'].cat.rename_categories(['No Diabetes','Diabetes'], inplace = True)\n",
    "df['alcoholism'].cat.rename_categories(['No Alcoholism' , 'Alcoholism'], inplace = True)\n",
    "df['handicap'].cat.rename_categories(['No Handicap', 'Handicap'], inplace = True)\n",
    "df['sms_received'].cat.rename_categories(['No', 'Yes'] , inplace = True)"
   ]
  },
  {
   "cell_type": "code",
   "execution_count": 17,
   "metadata": {},
   "outputs": [
    {
     "data": {
      "text/html": [
       "<div>\n",
       "<style scoped>\n",
       "    .dataframe tbody tr th:only-of-type {\n",
       "        vertical-align: middle;\n",
       "    }\n",
       "\n",
       "    .dataframe tbody tr th {\n",
       "        vertical-align: top;\n",
       "    }\n",
       "\n",
       "    .dataframe thead th {\n",
       "        text-align: right;\n",
       "    }\n",
       "</style>\n",
       "<table border=\"1\" class=\"dataframe\">\n",
       "  <thead>\n",
       "    <tr style=\"text-align: right;\">\n",
       "      <th></th>\n",
       "      <th>patient_id</th>\n",
       "      <th>appointment_id</th>\n",
       "      <th>scheduled_day</th>\n",
       "      <th>appointment_day</th>\n",
       "      <th>gender</th>\n",
       "      <th>age</th>\n",
       "      <th>neighbourhood</th>\n",
       "      <th>scholarship</th>\n",
       "      <th>hypertension</th>\n",
       "      <th>diabetes</th>\n",
       "      <th>alcoholism</th>\n",
       "      <th>handicap</th>\n",
       "      <th>sms_received</th>\n",
       "      <th>appointment</th>\n",
       "    </tr>\n",
       "  </thead>\n",
       "  <tbody>\n",
       "    <tr>\n",
       "      <th>16518</th>\n",
       "      <td>4200000000000</td>\n",
       "      <td>5648367</td>\n",
       "      <td>02/05/2016 17:32</td>\n",
       "      <td>02/05/2016 02:00</td>\n",
       "      <td>Female</td>\n",
       "      <td>60</td>\n",
       "      <td>MARIA ORTIZ</td>\n",
       "      <td>No Scholarship</td>\n",
       "      <td>No Hypertension</td>\n",
       "      <td>No Diabetes</td>\n",
       "      <td>No Alcoholism</td>\n",
       "      <td>No Handicap</td>\n",
       "      <td>No</td>\n",
       "      <td>Show</td>\n",
       "    </tr>\n",
       "    <tr>\n",
       "      <th>39952</th>\n",
       "      <td>419000000000000</td>\n",
       "      <td>5745605</td>\n",
       "      <td>30/05/2016 14:11</td>\n",
       "      <td>30/05/2016 02:00</td>\n",
       "      <td>Female</td>\n",
       "      <td>3</td>\n",
       "      <td>ROM?ƒO</td>\n",
       "      <td>No Scholarship</td>\n",
       "      <td>No Hypertension</td>\n",
       "      <td>No Diabetes</td>\n",
       "      <td>No Alcoholism</td>\n",
       "      <td>No Handicap</td>\n",
       "      <td>No</td>\n",
       "      <td>Show</td>\n",
       "    </tr>\n",
       "    <tr>\n",
       "      <th>11794</th>\n",
       "      <td>544000000000000</td>\n",
       "      <td>5666713</td>\n",
       "      <td>06/05/2016 08:56</td>\n",
       "      <td>11/05/2016 02:00</td>\n",
       "      <td>Male</td>\n",
       "      <td>48</td>\n",
       "      <td>SANTO ANDR?‰</td>\n",
       "      <td>No Scholarship</td>\n",
       "      <td>No Hypertension</td>\n",
       "      <td>No Diabetes</td>\n",
       "      <td>No Alcoholism</td>\n",
       "      <td>No Handicap</td>\n",
       "      <td>Yes</td>\n",
       "      <td>Show</td>\n",
       "    </tr>\n",
       "    <tr>\n",
       "      <th>10504</th>\n",
       "      <td>97800000000000</td>\n",
       "      <td>5714803</td>\n",
       "      <td>18/05/2016 15:10</td>\n",
       "      <td>30/05/2016 02:00</td>\n",
       "      <td>Male</td>\n",
       "      <td>29</td>\n",
       "      <td>FORTE S?ƒO JO?ƒO</td>\n",
       "      <td>No Scholarship</td>\n",
       "      <td>No Hypertension</td>\n",
       "      <td>No Diabetes</td>\n",
       "      <td>No Alcoholism</td>\n",
       "      <td>No Handicap</td>\n",
       "      <td>Yes</td>\n",
       "      <td>Show</td>\n",
       "    </tr>\n",
       "    <tr>\n",
       "      <th>68853</th>\n",
       "      <td>57600000000000</td>\n",
       "      <td>5686396</td>\n",
       "      <td>11/05/2016 15:16</td>\n",
       "      <td>20/05/2016 02:00</td>\n",
       "      <td>Female</td>\n",
       "      <td>40</td>\n",
       "      <td>TABUAZEIRO</td>\n",
       "      <td>Scholarship</td>\n",
       "      <td>No Hypertension</td>\n",
       "      <td>No Diabetes</td>\n",
       "      <td>No Alcoholism</td>\n",
       "      <td>No Handicap</td>\n",
       "      <td>No</td>\n",
       "      <td>Show</td>\n",
       "    </tr>\n",
       "    <tr>\n",
       "      <th>59009</th>\n",
       "      <td>40000000000000</td>\n",
       "      <td>5609649</td>\n",
       "      <td>20/04/2016 18:31</td>\n",
       "      <td>02/05/2016 02:00</td>\n",
       "      <td>Female</td>\n",
       "      <td>44</td>\n",
       "      <td>SANTA MARTHA</td>\n",
       "      <td>No Scholarship</td>\n",
       "      <td>No Hypertension</td>\n",
       "      <td>No Diabetes</td>\n",
       "      <td>No Alcoholism</td>\n",
       "      <td>No Handicap</td>\n",
       "      <td>Yes</td>\n",
       "      <td>No Show</td>\n",
       "    </tr>\n",
       "  </tbody>\n",
       "</table>\n",
       "</div>"
      ],
      "text/plain": [
       "            patient_id  appointment_id     scheduled_day   appointment_day  \\\n",
       "16518    4200000000000         5648367  02/05/2016 17:32  02/05/2016 02:00   \n",
       "39952  419000000000000         5745605  30/05/2016 14:11  30/05/2016 02:00   \n",
       "11794  544000000000000         5666713  06/05/2016 08:56  11/05/2016 02:00   \n",
       "10504   97800000000000         5714803  18/05/2016 15:10  30/05/2016 02:00   \n",
       "68853   57600000000000         5686396  11/05/2016 15:16  20/05/2016 02:00   \n",
       "59009   40000000000000         5609649  20/04/2016 18:31  02/05/2016 02:00   \n",
       "\n",
       "       gender  age     neighbourhood     scholarship     hypertension  \\\n",
       "16518  Female   60       MARIA ORTIZ  No Scholarship  No Hypertension   \n",
       "39952  Female    3            ROM?ƒO  No Scholarship  No Hypertension   \n",
       "11794    Male   48      SANTO ANDR?‰  No Scholarship  No Hypertension   \n",
       "10504    Male   29  FORTE S?ƒO JO?ƒO  No Scholarship  No Hypertension   \n",
       "68853  Female   40        TABUAZEIRO     Scholarship  No Hypertension   \n",
       "59009  Female   44      SANTA MARTHA  No Scholarship  No Hypertension   \n",
       "\n",
       "          diabetes     alcoholism     handicap sms_received appointment  \n",
       "16518  No Diabetes  No Alcoholism  No Handicap           No        Show  \n",
       "39952  No Diabetes  No Alcoholism  No Handicap           No        Show  \n",
       "11794  No Diabetes  No Alcoholism  No Handicap          Yes        Show  \n",
       "10504  No Diabetes  No Alcoholism  No Handicap          Yes        Show  \n",
       "68853  No Diabetes  No Alcoholism  No Handicap           No        Show  \n",
       "59009  No Diabetes  No Alcoholism  No Handicap          Yes     No Show  "
      ]
     },
     "execution_count": 17,
     "metadata": {},
     "output_type": "execute_result"
    }
   ],
   "source": [
    "# test\n",
    "df.sample(6)"
   ]
  },
  {
   "cell_type": "code",
   "execution_count": 18,
   "metadata": {},
   "outputs": [
    {
     "data": {
      "text/plain": [
       "scheduled_day      datetime64[ns]\n",
       "appointment_day    datetime64[ns]\n",
       "dtype: object"
      ]
     },
     "execution_count": 18,
     "metadata": {},
     "output_type": "execute_result"
    }
   ],
   "source": [
    "# Convert 'scheduled_day' and 'appointment_day' from 'object' type to 'datetime64[ns]'\n",
    "df['scheduled_day'] = pd.to_datetime(df['scheduled_day']).dt.date.astype('datetime64[ns]')\n",
    "df['appointment_day'] = pd.to_datetime(df['appointment_day']).dt.date.astype('datetime64[ns]')\n",
    "# test\n",
    "df[['scheduled_day', 'appointment_day']].dtypes"
   ]
  },
  {
   "cell_type": "code",
   "execution_count": 19,
   "metadata": {},
   "outputs": [
    {
     "data": {
      "text/plain": [
       "0"
      ]
     },
     "execution_count": 19,
     "metadata": {},
     "output_type": "execute_result"
    }
   ],
   "source": [
    "# Row with incorrect age value (-1)\n",
    "df = df[df['age'] != -1]\n",
    "# I deleted the line with age = -1 as i assume that is a typo.\n",
    "# test\n",
    "np.min(df['age'])"
   ]
  },
  {
   "cell_type": "code",
   "execution_count": 20,
   "metadata": {},
   "outputs": [
    {
     "data": {
      "text/plain": [
       "5"
      ]
     },
     "execution_count": 20,
     "metadata": {},
     "output_type": "execute_result"
    }
   ],
   "source": [
    "# create 'age_category' variable for make the analysis easier\n",
    "values = [0 , 2 , 17 , 39 , 60 , 116]\n",
    "category = ['0 - 2','3 - 17','18 - 39','40 - 59', '60 - 115']   \n",
    "df['age_category'] = pd.cut(df['age'] , bins = values ,labels = category)\n",
    "# test\n",
    "df['age_category'].nunique()"
   ]
  },
  {
   "cell_type": "code",
   "execution_count": 21,
   "metadata": {},
   "outputs": [
    {
     "data": {
      "text/html": [
       "<div>\n",
       "<style scoped>\n",
       "    .dataframe tbody tr th:only-of-type {\n",
       "        vertical-align: middle;\n",
       "    }\n",
       "\n",
       "    .dataframe tbody tr th {\n",
       "        vertical-align: top;\n",
       "    }\n",
       "\n",
       "    .dataframe thead th {\n",
       "        text-align: right;\n",
       "    }\n",
       "</style>\n",
       "<table border=\"1\" class=\"dataframe\">\n",
       "  <thead>\n",
       "    <tr style=\"text-align: right;\">\n",
       "      <th></th>\n",
       "      <th>gender</th>\n",
       "      <th>age</th>\n",
       "      <th>scholarship</th>\n",
       "      <th>hypertension</th>\n",
       "      <th>diabetes</th>\n",
       "      <th>appointment</th>\n",
       "      <th>age_category</th>\n",
       "    </tr>\n",
       "  </thead>\n",
       "  <tbody>\n",
       "    <tr>\n",
       "      <th>0</th>\n",
       "      <td>Female</td>\n",
       "      <td>62</td>\n",
       "      <td>No Scholarship</td>\n",
       "      <td>Hypertension</td>\n",
       "      <td>No Diabetes</td>\n",
       "      <td>Show</td>\n",
       "      <td>60 - 115</td>\n",
       "    </tr>\n",
       "    <tr>\n",
       "      <th>1</th>\n",
       "      <td>Male</td>\n",
       "      <td>56</td>\n",
       "      <td>No Scholarship</td>\n",
       "      <td>No Hypertension</td>\n",
       "      <td>No Diabetes</td>\n",
       "      <td>Show</td>\n",
       "      <td>40 - 59</td>\n",
       "    </tr>\n",
       "    <tr>\n",
       "      <th>2</th>\n",
       "      <td>Female</td>\n",
       "      <td>62</td>\n",
       "      <td>No Scholarship</td>\n",
       "      <td>No Hypertension</td>\n",
       "      <td>No Diabetes</td>\n",
       "      <td>Show</td>\n",
       "      <td>60 - 115</td>\n",
       "    </tr>\n",
       "    <tr>\n",
       "      <th>3</th>\n",
       "      <td>Female</td>\n",
       "      <td>8</td>\n",
       "      <td>No Scholarship</td>\n",
       "      <td>No Hypertension</td>\n",
       "      <td>No Diabetes</td>\n",
       "      <td>Show</td>\n",
       "      <td>3 - 17</td>\n",
       "    </tr>\n",
       "    <tr>\n",
       "      <th>4</th>\n",
       "      <td>Female</td>\n",
       "      <td>56</td>\n",
       "      <td>No Scholarship</td>\n",
       "      <td>Hypertension</td>\n",
       "      <td>Diabetes</td>\n",
       "      <td>Show</td>\n",
       "      <td>40 - 59</td>\n",
       "    </tr>\n",
       "  </tbody>\n",
       "</table>\n",
       "</div>"
      ],
      "text/plain": [
       "   gender  age     scholarship     hypertension     diabetes appointment  \\\n",
       "0  Female   62  No Scholarship     Hypertension  No Diabetes        Show   \n",
       "1    Male   56  No Scholarship  No Hypertension  No Diabetes        Show   \n",
       "2  Female   62  No Scholarship  No Hypertension  No Diabetes        Show   \n",
       "3  Female    8  No Scholarship  No Hypertension  No Diabetes        Show   \n",
       "4  Female   56  No Scholarship     Hypertension     Diabetes        Show   \n",
       "\n",
       "  age_category  \n",
       "0     60 - 115  \n",
       "1      40 - 59  \n",
       "2     60 - 115  \n",
       "3       3 - 17  \n",
       "4      40 - 59  "
      ]
     },
     "execution_count": 21,
     "metadata": {},
     "output_type": "execute_result"
    }
   ],
   "source": [
    "# Define data related to the required variables in my research questions\n",
    "df = df.iloc[: , np.r_[4:6 , 7:10 , 13:15]]\n",
    "# test\n",
    "df.head()"
   ]
  },
  {
   "cell_type": "markdown",
   "metadata": {},
   "source": [
    "<br />\n",
    "<a id='eda'></a>\n",
    "\n",
    "## 4) EDA - Exploratory Data Analysis <a href=\"#top\"></a>\n",
    "\n",
    "> **In this section**: I'll explore the data in order to address may research questions.\n",
    "* Finding patterns.\n",
    "* Visualizing relationships.\n",
    "* Building intuition.\n"
   ]
  },
  {
   "cell_type": "markdown",
   "metadata": {},
   "source": [
    "**First** I'm going to create some functions that will make plotting charts easier."
   ]
  },
  {
   "cell_type": "code",
   "execution_count": 22,
   "metadata": {},
   "outputs": [],
   "source": [
    "# Create a function to generate a countplot for one categorical variable\n",
    "# it should provide a dataset as 'df', a name of categorical variable as 'vb' and number of color as 'i'.\n",
    "def count_plot_one_vb(df, vb , i):\n",
    "    base_color = sns.color_palette()[i]\n",
    "    sns.countplot(data = df, x = vb, color = base_color)\n",
    "    plt.xlabel(vb.upper())\n",
    "    plt.ylabel('Number of patients \\n ')\n",
    "    plt.title('Number of patients by '+ vb +' \\n',fontsize=16)\n",
    "    # add annotations\n",
    "    n_points = df.shape[0]\n",
    "    gen_counts = df[vb].value_counts()\n",
    "    locs, labels = plt.xticks() # get the current tick locations and labels\n",
    "\n",
    "    # loop through each pair of locations and labels\n",
    "    for loc, label in zip(locs, labels):\n",
    "\n",
    "        # get the text property for the label to get the correct count\n",
    "        count = gen_counts[label.get_text()]\n",
    "        pct_string = '{:0.1f}%'.format(100*count/n_points)\n",
    "\n",
    "        # print the annotation just below the top of the bar\n",
    "        plt.text(loc, count-8, pct_string, ha = 'center', fontsize=11, color = 'black')\n",
    "    return "
   ]
  },
  {
   "cell_type": "code",
   "execution_count": 23,
   "metadata": {},
   "outputs": [],
   "source": [
    "# Create a funtion with 3 arguments >> (dataframe as 'df', variable 1 as 'vb1' and variable 2 as 'vb2') to generate:\n",
    "# 1)- a pivot table between the two variables,\n",
    "# 2)- a rate bar chart with:\n",
    "# - the first variable as 'vb1' in horizontal axis(x),\n",
    "# - the second variable as 'vb2' proportion in (y) axis, and show in legend),\n",
    "# -- this function concerns only categorical variables --\n",
    "def rate_bar_chart_2vb(df, vb1,vb2):\n",
    "    \"\"\"  \n",
    "    Creates a pivot table between the two variables and a rate bar chart. \n",
    "    Parameters:\n",
    "    - df (Pandas Dataframe): dataframe containing the data\n",
    "    - vb1: column in the dataframe (categorical)\n",
    "    - vb2: column in the dataframe(categorical)\n",
    "    \"\"\"\n",
    "    # pivot-table \n",
    "    df_by_vb_count = df.pivot_table(index = vb1, columns = vb2, values = 'age', aggfunc = 'count',margins = True)\n",
    "    #rate bar chart\n",
    "    df_by_vb = pd.crosstab(df[vb1], df[vb2], normalize = 'index')\n",
    "    df_by_vb = np.round((df_by_vb * 100), decimals=2)\n",
    "    ax = df_by_vb.plot.bar(figsize=(10,5));\n",
    "    vals = ax.get_yticks()\n",
    "    ax.set_yticklabels(['{:3.0f}%'.format(x) for x in vals]);\n",
    "    ax.set_xticklabels(df_by_vb.index,rotation = 0, fontsize = 15);\n",
    "    ax.set_title('\\n '+ vb2.upper() + ' (%) by ' + df_by_vb.index.name + '\\n', fontsize = 15)\n",
    "    ax.set_xlabel(df_by_vb.index.name.upper(), fontsize = 12)\n",
    "    ax.set_ylabel('(Percentage %)', fontsize = 12)\n",
    "    ax.legend(loc = 'upper left',bbox_to_anchor=(1.0,1.0), fontsize= 12)\n",
    "    rects = ax.patches\n",
    "    # Add Data Labels\n",
    "    for rect in rects:\n",
    "        height = rect.get_height()\n",
    "        ax.text(rect.get_x() + rect.get_width()/2, \n",
    "                height + 2, \n",
    "                str(height)+'%', \n",
    "                ha='center', \n",
    "                va='bottom',\n",
    "                fontsize = 12)   \n",
    "    return  df_by_vb_count "
   ]
  },
  {
   "cell_type": "code",
   "execution_count": 24,
   "metadata": {},
   "outputs": [],
   "source": [
    "# Create a funtion with 2 arguments >> (datafram as 'df' and binary variable as 'vb') to generate:\n",
    "# 1)- a pivot table between the appointment variable and the binary variable in arguments,\n",
    "# 2)- stacked bar chart with:\n",
    "# - the variable 'vb' in horizontal axis(x),\n",
    "# - the 'appointment' variable in (y) axis.\n",
    "\n",
    "def stacked_bar_appointment_with_vb(df, vb):\n",
    "    # pivot table 'gender' by 'appointment' \n",
    "    group_vb_all= df.pivot_table(index = vb, columns = 'appointment', values = 'age', aggfunc = 'count',margins = True)\n",
    "    \n",
    "    # plot\n",
    "    group_vb = pd.pivot_table(df,index = vb, columns = 'appointment', values = 'age',aggfunc = 'count')\n",
    "    ind = range(len(df[vb].value_counts()))\n",
    "    width = 0.8\n",
    "    p1=plt.bar(ind, group_vb.Show, width)\n",
    "    p2 = plt.bar(ind, group_vb['No Show'], width)\n",
    "    plt.legend(['Show','No Show'])\n",
    "    plt.xticks(ind, group_vb.index)\n",
    "    plt.ylabel('Number of patients')\n",
    "    plt.title('Number of patients (Show/No Show) appointment by ' + vb + '\\n ', fontsize=16)\n",
    "    \n",
    "    return group_vb_all"
   ]
  },
  {
   "cell_type": "markdown",
   "metadata": {},
   "source": [
    "__1.What is the overall rate of patients for both (show up / not show up) at the medical appointment?__"
   ]
  },
  {
   "cell_type": "code",
   "execution_count": 25,
   "metadata": {},
   "outputs": [
    {
     "name": "stdout",
     "output_type": "stream",
     "text": [
      "appointment\n",
      "Show       88049\n",
      "No Show    22278\n",
      "Name: appointment, dtype: int64\n",
      "total appointment: 110327\n",
      "79.80730011692513 %\n",
      "20.19269988307486 %\n"
     ]
    }
   ],
   "source": [
    "# number of patients grouping by 'appointment' variable\n",
    "count_app = df.groupby('appointment')['appointment'].count()\n",
    "sum_app = count_app.sum()\n",
    "print(count_app)\n",
    "print('total appointment:',sum_app)\n",
    "print((count_app[0]/sum_app)*100, '%'  )\n",
    "print((count_app[1]/sum_app)*100, '%'  )"
   ]
  },
  {
   "cell_type": "code",
   "execution_count": 26,
   "metadata": {
    "scrolled": true
   },
   "outputs": [
    {
     "data": {
      "image/png": "[encoded data removed]",
      "text/plain": [
       "<Figure size 432x288 with 1 Axes>"
      ]
     },
     "metadata": {
      "needs_background": "light"
     },
     "output_type": "display_data"
    }
   ],
   "source": [
    "# apointment plot\n",
    "count_plot_one_vb(df, 'appointment',7)\n",
    "plt.title('Number of patients by (showing/no showing) at the appointment',fontsize=16);"
   ]
  },
  {
   "cell_type": "markdown",
   "metadata": {},
   "source": [
    "> **notes:**\n",
    "* It is noted in the graph that the number of patients who show up at their appointments is much greater than those who not show up.\n",
    "* 79.8% of the total patients showed up at their appointments.\n",
    "* 20.2% of the total patients not showed up at their appointments."
   ]
  },
  {
   "cell_type": "markdown",
   "metadata": {},
   "source": [
    "__2.How many patients are female and are male, and what's the proportion of no-showing up at the appointment for each Gender?__"
   ]
  },
  {
   "cell_type": "code",
   "execution_count": 27,
   "metadata": {},
   "outputs": [
    {
     "name": "stdout",
     "output_type": "stream",
     "text": [
      "appointment\n",
      "Show       88049\n",
      "No Show    22278\n",
      "Name: appointment, dtype: int64\n",
      "total gender: 110327\n",
      "65.01581661787232 %\n",
      "34.984183382127675 %\n"
     ]
    }
   ],
   "source": [
    "# number of patients grouping by 'gender' variable\n",
    "count_gender = df.groupby('gender')['gender'].count()\n",
    "sum_gender = count_gender.sum()\n",
    "print(count_app)\n",
    "print('total gender:',sum_gender)\n",
    "print((count_gender[0]/sum_gender)*100, '%'  )\n",
    "print((count_gender[1]/sum_gender)*100, '%'  )"
   ]
  },
  {
   "cell_type": "code",
   "execution_count": 28,
   "metadata": {},
   "outputs": [
    {
     "data": {
      "image/png": "[encoded data removed]",
      "text/plain": [
       "<Figure size 432x288 with 1 Axes>"
      ]
     },
     "metadata": {
      "needs_background": "light"
     },
     "output_type": "display_data"
    }
   ],
   "source": [
    "# gender count plot\n",
    "count_plot_one_vb(df, 'gender',0)"
   ]
  },
  {
   "cell_type": "markdown",
   "metadata": {},
   "source": [
    "> **observations:**\n",
    "* It is noted in the graph that the number of female is much greater than male.\n",
    "* 65% of total patients are females.\n",
    "* 35% of total patients are males."
   ]
  },
  {
   "cell_type": "code",
   "execution_count": 29,
   "metadata": {},
   "outputs": [
    {
     "data": {
      "text/html": [
       "<div>\n",
       "<style scoped>\n",
       "    .dataframe tbody tr th:only-of-type {\n",
       "        vertical-align: middle;\n",
       "    }\n",
       "\n",
       "    .dataframe tbody tr th {\n",
       "        vertical-align: top;\n",
       "    }\n",
       "\n",
       "    .dataframe thead th {\n",
       "        text-align: right;\n",
       "    }\n",
       "</style>\n",
       "<table border=\"1\" class=\"dataframe\">\n",
       "  <thead>\n",
       "    <tr style=\"text-align: right;\">\n",
       "      <th>appointment</th>\n",
       "      <th>Show</th>\n",
       "      <th>No Show</th>\n",
       "      <th>All</th>\n",
       "    </tr>\n",
       "    <tr>\n",
       "      <th>gender</th>\n",
       "      <th></th>\n",
       "      <th></th>\n",
       "      <th></th>\n",
       "    </tr>\n",
       "  </thead>\n",
       "  <tbody>\n",
       "    <tr>\n",
       "      <th>Female</th>\n",
       "      <td>57162</td>\n",
       "      <td>14568</td>\n",
       "      <td>71730</td>\n",
       "    </tr>\n",
       "    <tr>\n",
       "      <th>Male</th>\n",
       "      <td>30887</td>\n",
       "      <td>7710</td>\n",
       "      <td>38597</td>\n",
       "    </tr>\n",
       "    <tr>\n",
       "      <th>All</th>\n",
       "      <td>88049</td>\n",
       "      <td>22278</td>\n",
       "      <td>110327</td>\n",
       "    </tr>\n",
       "  </tbody>\n",
       "</table>\n",
       "</div>"
      ],
      "text/plain": [
       "appointment   Show  No Show     All\n",
       "gender                             \n",
       "Female       57162    14568   71730\n",
       "Male         30887     7710   38597\n",
       "All          88049    22278  110327"
      ]
     },
     "execution_count": 29,
     "metadata": {},
     "output_type": "execute_result"
    },
    {
     "data": {
      "image/png": "[encoded data removed]",
      "text/plain": [
       "<Figure size 432x288 with 1 Axes>"
      ]
     },
     "metadata": {
      "needs_background": "light"
     },
     "output_type": "display_data"
    }
   ],
   "source": [
    "# stacked bar chart 'appointment' by Gender\n",
    "stacked_bar_appointment_with_vb(df, 'gender')"
   ]
  },
  {
   "cell_type": "code",
   "execution_count": 30,
   "metadata": {},
   "outputs": [
    {
     "data": {
      "text/html": [
       "<div>\n",
       "<style scoped>\n",
       "    .dataframe tbody tr th:only-of-type {\n",
       "        vertical-align: middle;\n",
       "    }\n",
       "\n",
       "    .dataframe tbody tr th {\n",
       "        vertical-align: top;\n",
       "    }\n",
       "\n",
       "    .dataframe thead th {\n",
       "        text-align: right;\n",
       "    }\n",
       "</style>\n",
       "<table border=\"1\" class=\"dataframe\">\n",
       "  <thead>\n",
       "    <tr style=\"text-align: right;\">\n",
       "      <th>appointment</th>\n",
       "      <th>Show</th>\n",
       "      <th>No Show</th>\n",
       "      <th>All</th>\n",
       "    </tr>\n",
       "    <tr>\n",
       "      <th>gender</th>\n",
       "      <th></th>\n",
       "      <th></th>\n",
       "      <th></th>\n",
       "    </tr>\n",
       "  </thead>\n",
       "  <tbody>\n",
       "    <tr>\n",
       "      <th>Female</th>\n",
       "      <td>57162</td>\n",
       "      <td>14568</td>\n",
       "      <td>71730</td>\n",
       "    </tr>\n",
       "    <tr>\n",
       "      <th>Male</th>\n",
       "      <td>30887</td>\n",
       "      <td>7710</td>\n",
       "      <td>38597</td>\n",
       "    </tr>\n",
       "    <tr>\n",
       "      <th>All</th>\n",
       "      <td>88049</td>\n",
       "      <td>22278</td>\n",
       "      <td>110327</td>\n",
       "    </tr>\n",
       "  </tbody>\n",
       "</table>\n",
       "</div>"
      ],
      "text/plain": [
       "appointment   Show  No Show     All\n",
       "gender                             \n",
       "Female       57162    14568   71730\n",
       "Male         30887     7710   38597\n",
       "All          88049    22278  110327"
      ]
     },
     "execution_count": 30,
     "metadata": {},
     "output_type": "execute_result"
    },
    {
     "data": {
      "image/png": "[encoded data removed]",
      "text/plain": [
       "<Figure size 720x360 with 1 Axes>"
      ]
     },
     "metadata": {
      "needs_background": "light"
     },
     "output_type": "display_data"
    }
   ],
   "source": [
    "# bar chart comparison femal and mal by 'appointment' variable.\n",
    "rate_bar_chart_2vb(df, 'gender', 'appointment')"
   ]
  },
  {
   "cell_type": "markdown",
   "metadata": {},
   "source": [
    "> **notes:** <br />\n",
    "let's focus on the no show rates for (`female` and `male`) because it's the matter of our study \n",
    "* for the females, we have `14568` patients who not showed up at their appointments, which makes `20.31%` of all females (`71730`).\n",
    "* for the males, we have `7710` patients who not showed up at their appointments, which makes `19.98%` of all males (`38597`).\n",
    "* there is only **`0.33%`** difference between females and males no showing up rate.\n",
    "* from my analytical point of view, there is no significant effect of `Gender` on patients not showing up for their medical appointments."
   ]
  },
  {
   "cell_type": "markdown",
   "metadata": {},
   "source": [
    "__3.What are the characteristics of patients in terms of age?__"
   ]
  },
  {
   "cell_type": "code",
   "execution_count": 31,
   "metadata": {},
   "outputs": [
    {
     "name": "stdout",
     "output_type": "stream",
     "text": [
      "103\n"
     ]
    },
    {
     "data": {
      "text/plain": [
       "array([  0,   1,   2,   3,   4,   5,   6,   7,   8,   9,  10,  11,  12,\n",
       "        13,  14,  15,  16,  17,  18,  19,  20,  21,  22,  23,  24,  25,\n",
       "        26,  27,  28,  29,  30,  31,  32,  33,  34,  35,  36,  37,  38,\n",
       "        39,  40,  41,  42,  43,  44,  45,  46,  47,  48,  49,  50,  51,\n",
       "        52,  53,  54,  55,  56,  57,  58,  59,  60,  61,  62,  63,  64,\n",
       "        65,  66,  67,  68,  69,  70,  71,  72,  73,  74,  75,  76,  77,\n",
       "        78,  79,  80,  81,  82,  83,  84,  85,  86,  87,  88,  89,  90,\n",
       "        91,  92,  93,  94,  95,  96,  97,  98,  99, 100, 102, 115],\n",
       "      dtype=int64)"
      ]
     },
     "execution_count": 31,
     "metadata": {},
     "output_type": "execute_result"
    }
   ],
   "source": [
    "# unique values\n",
    "print(df.age.nunique())\n",
    "np.sort(df.age.unique())"
   ]
  },
  {
   "cell_type": "code",
   "execution_count": 32,
   "metadata": {},
   "outputs": [
    {
     "data": {
      "image/png": "[encoded data removed]",
      "text/plain": [
       "<Figure size 432x288 with 1 Axes>"
      ]
     },
     "metadata": {
      "needs_background": "light"
     },
     "output_type": "display_data"
    }
   ],
   "source": [
    "# simple histogram of 'age' variable\n",
    "df['age'].hist(bins=10);"
   ]
  },
  {
   "cell_type": "code",
   "execution_count": 33,
   "metadata": {},
   "outputs": [
    {
     "data": {
      "image/png": "[encoded data removed]",
      "text/plain": [
       "<Figure size 432x288 with 1 Axes>"
      ]
     },
     "metadata": {
      "needs_background": "light"
     },
     "output_type": "display_data"
    }
   ],
   "source": [
    "# create two dataframes frames one for 'female' and another for 'male'\n",
    "female = df[df.gender == 'Female']\n",
    "male = df[df.gender == 'Male']\n",
    "# histogram for each Gender\n",
    "female.age.hist(label='Female', alpha=0.5, bins=10)\n",
    "male.age.hist(label='Male', alpha=0.5, bins=10)\n",
    "plt.ylabel('Number of patients')\n",
    "plt.xlabel('Age')\n",
    "plt.title('Distribution of Age by Gender')\n",
    "plt.legend();"
   ]
  },
  {
   "cell_type": "markdown",
   "metadata": {},
   "source": [
    "> **observation:**\n",
    "* there are `103` different ages.\n",
    "* the most frequent age is `0`, i assume there are a babies.\n",
    "* the distribution of males' age is almost same than femals' age, however the number of females is much more than males."
   ]
  },
  {
   "cell_type": "markdown",
   "metadata": {},
   "source": [
    "__4. How many patients and what's the-no showing rate for each age category?__"
   ]
  },
  {
   "cell_type": "code",
   "execution_count": 34,
   "metadata": {},
   "outputs": [
    {
     "name": "stdout",
     "output_type": "stream",
     "text": [
      "age_category\n",
      "0 - 2        3891\n",
      "3 - 17      19906\n",
      "18 - 39     31859\n",
      "40 - 59     31441\n",
      "60 - 115    19691\n",
      "Name: age_category, dtype: int64\n",
      "3.6436678278458254 %\n",
      "18.640671236468517 %\n",
      "29.83387646552047 %\n",
      "29.44244671685957 %\n",
      "18.439337753305615 %\n"
     ]
    }
   ],
   "source": [
    "# number of patients grouping by 'age_category' variable\n",
    "count_category = df.groupby('age_category')['age_category'].count()\n",
    "sum_category = count_category.sum()\n",
    "print(count_category)\n",
    "print((count_category[0]/sum_category)*100, '%')\n",
    "print((count_category[1]/sum_category)*100, '%')\n",
    "print((count_category[2]/sum_category)*100, '%')\n",
    "print((count_category[3]/sum_category)*100, '%')\n",
    "print((count_category[4]/sum_category)*100, '%')"
   ]
  },
  {
   "cell_type": "code",
   "execution_count": 35,
   "metadata": {},
   "outputs": [
    {
     "data": {
      "image/png": "[encoded data removed]",
      "text/plain": [
       "<Figure size 432x288 with 1 Axes>"
      ]
     },
     "metadata": {
      "needs_background": "light"
     },
     "output_type": "display_data"
    }
   ],
   "source": [
    "# bar plot with proportion age category\n",
    "count_plot_one_vb(df,'age_category',4)"
   ]
  },
  {
   "cell_type": "markdown",
   "metadata": {},
   "source": [
    "> **observations:**\n",
    "according to this bar chart of age category, we notice that:\n",
    "* the two categories ([`18 - 39`] and [`40 - 59`]) are the most frequent,\n",
    "* the category of babies ([`0 - 2`]) is the least frequent."
   ]
  },
  {
   "cell_type": "code",
   "execution_count": 36,
   "metadata": {},
   "outputs": [
    {
     "data": {
      "text/html": [
       "<div>\n",
       "<style scoped>\n",
       "    .dataframe tbody tr th:only-of-type {\n",
       "        vertical-align: middle;\n",
       "    }\n",
       "\n",
       "    .dataframe tbody tr th {\n",
       "        vertical-align: top;\n",
       "    }\n",
       "\n",
       "    .dataframe thead th {\n",
       "        text-align: right;\n",
       "    }\n",
       "</style>\n",
       "<table border=\"1\" class=\"dataframe\">\n",
       "  <thead>\n",
       "    <tr style=\"text-align: right;\">\n",
       "      <th>appointment</th>\n",
       "      <th>Show</th>\n",
       "      <th>No Show</th>\n",
       "      <th>All</th>\n",
       "    </tr>\n",
       "    <tr>\n",
       "      <th>age_category</th>\n",
       "      <th></th>\n",
       "      <th></th>\n",
       "      <th></th>\n",
       "    </tr>\n",
       "  </thead>\n",
       "  <tbody>\n",
       "    <tr>\n",
       "      <th>0 - 2</th>\n",
       "      <td>3224</td>\n",
       "      <td>667</td>\n",
       "      <td>3891</td>\n",
       "    </tr>\n",
       "    <tr>\n",
       "      <th>3 - 17</th>\n",
       "      <td>15222</td>\n",
       "      <td>4684</td>\n",
       "      <td>19906</td>\n",
       "    </tr>\n",
       "    <tr>\n",
       "      <th>18 - 39</th>\n",
       "      <td>24441</td>\n",
       "      <td>7418</td>\n",
       "      <td>31859</td>\n",
       "    </tr>\n",
       "    <tr>\n",
       "      <th>40 - 59</th>\n",
       "      <td>25559</td>\n",
       "      <td>5882</td>\n",
       "      <td>31441</td>\n",
       "    </tr>\n",
       "    <tr>\n",
       "      <th>60 - 115</th>\n",
       "      <td>16703</td>\n",
       "      <td>2988</td>\n",
       "      <td>19691</td>\n",
       "    </tr>\n",
       "    <tr>\n",
       "      <th>All</th>\n",
       "      <td>85149</td>\n",
       "      <td>21639</td>\n",
       "      <td>106788</td>\n",
       "    </tr>\n",
       "  </tbody>\n",
       "</table>\n",
       "</div>"
      ],
      "text/plain": [
       "appointment    Show  No Show     All\n",
       "age_category                        \n",
       "0 - 2          3224      667    3891\n",
       "3 - 17        15222     4684   19906\n",
       "18 - 39       24441     7418   31859\n",
       "40 - 59       25559     5882   31441\n",
       "60 - 115      16703     2988   19691\n",
       "All           85149    21639  106788"
      ]
     },
     "execution_count": 36,
     "metadata": {},
     "output_type": "execute_result"
    },
    {
     "data": {
      "image/png": "[encoded data removed]",
      "text/plain": [
       "<Figure size 432x288 with 1 Axes>"
      ]
     },
     "metadata": {
      "needs_background": "light"
     },
     "output_type": "display_data"
    },
    {
     "data": {
      "image/png": "[encoded data removed]",
      "text/plain": [
       "<Figure size 720x360 with 1 Axes>"
      ]
     },
     "metadata": {
      "needs_background": "light"
     },
     "output_type": "display_data"
    }
   ],
   "source": [
    "# stacked bar chart 'appointment' by age_category \n",
    "stacked_bar_appointment_with_vb(df, 'age_category')\n",
    "# bar chart comparison proportion of (show/no show) by 'age_category' variable.\n",
    "rate_bar_chart_2vb(df, 'age_category', 'appointment')"
   ]
  },
  {
   "cell_type": "markdown",
   "metadata": {},
   "source": [
    "> **notes:** <br />\n",
    "let's focus on the no show rates for each age category because it's the matter of our study  \n",
    "* for the [**`0 - 2`**] category, we have `667` patients who not showed up at their appointments, which makes **`17.14%`** of all patients of this category (`3891`).\n",
    "<br />\n",
    "* for the [**`3 - 17`**] category, we have `4684` patients who not showed up at their appointments, which makes **`23.53%`** of all patients of this category (`19906`).\n",
    "<br />\n",
    "* for the [**`18 - 39`**] category, we have `7418` patients who not showed up at their appointments, which makes **`23.28%`** of all patients of this category (`31859`).\n",
    "<br />\n",
    "* for the [**`40 - 59`**] category, we have `5882` patients who not showed up at their appointments, which makes **`18.71%`** of all patients of this category (`31441`).\n",
    "<br />\n",
    "* for the [**`60 - 115`**] category, we have `2988` patients who not showed up at their appointments, which makes **`15.17%`** of all patients of this category (`19691`).\n",
    "<br />\n",
    "* the highest rates of no-showing are (**`23.28%`** and **`18.71%`**) which belong respectively to the categories ([**`3 - 17`**] and [**`18 - 39`**]\n",
    "* from my analytical point of view, there is an effect of `age` on the patients no-showing rate."
   ]
  },
  {
   "cell_type": "code",
   "execution_count": 37,
   "metadata": {},
   "outputs": [
    {
     "data": {
      "text/html": [
       "<div>\n",
       "<style scoped>\n",
       "    .dataframe tbody tr th:only-of-type {\n",
       "        vertical-align: middle;\n",
       "    }\n",
       "\n",
       "    .dataframe tbody tr th {\n",
       "        vertical-align: top;\n",
       "    }\n",
       "\n",
       "    .dataframe thead th {\n",
       "        text-align: right;\n",
       "    }\n",
       "</style>\n",
       "<table border=\"1\" class=\"dataframe\">\n",
       "  <thead>\n",
       "    <tr style=\"text-align: right;\">\n",
       "      <th>gender</th>\n",
       "      <th>Female</th>\n",
       "      <th>Male</th>\n",
       "      <th>All</th>\n",
       "    </tr>\n",
       "    <tr>\n",
       "      <th>age_category</th>\n",
       "      <th></th>\n",
       "      <th></th>\n",
       "      <th></th>\n",
       "    </tr>\n",
       "  </thead>\n",
       "  <tbody>\n",
       "    <tr>\n",
       "      <th>0 - 2</th>\n",
       "      <td>1845</td>\n",
       "      <td>2046</td>\n",
       "      <td>3891</td>\n",
       "    </tr>\n",
       "    <tr>\n",
       "      <th>3 - 17</th>\n",
       "      <td>10315</td>\n",
       "      <td>9591</td>\n",
       "      <td>19906</td>\n",
       "    </tr>\n",
       "    <tr>\n",
       "      <th>18 - 39</th>\n",
       "      <td>23046</td>\n",
       "      <td>8813</td>\n",
       "      <td>31859</td>\n",
       "    </tr>\n",
       "    <tr>\n",
       "      <th>40 - 59</th>\n",
       "      <td>21564</td>\n",
       "      <td>9877</td>\n",
       "      <td>31441</td>\n",
       "    </tr>\n",
       "    <tr>\n",
       "      <th>60 - 115</th>\n",
       "      <td>13239</td>\n",
       "      <td>6452</td>\n",
       "      <td>19691</td>\n",
       "    </tr>\n",
       "    <tr>\n",
       "      <th>All</th>\n",
       "      <td>70009</td>\n",
       "      <td>36779</td>\n",
       "      <td>106788</td>\n",
       "    </tr>\n",
       "  </tbody>\n",
       "</table>\n",
       "</div>"
      ],
      "text/plain": [
       "gender        Female   Male     All\n",
       "age_category                       \n",
       "0 - 2           1845   2046    3891\n",
       "3 - 17         10315   9591   19906\n",
       "18 - 39        23046   8813   31859\n",
       "40 - 59        21564   9877   31441\n",
       "60 - 115       13239   6452   19691\n",
       "All            70009  36779  106788"
      ]
     },
     "execution_count": 37,
     "metadata": {},
     "output_type": "execute_result"
    },
    {
     "data": {
      "image/png": "[encoded data removed]",
      "text/plain": [
       "<Figure size 720x360 with 1 Axes>"
      ]
     },
     "metadata": {
      "needs_background": "light"
     },
     "output_type": "display_data"
    }
   ],
   "source": [
    "# bar chart comparison proportion of (Female/Male) by 'age_category' variable.\n",
    "rate_bar_chart_2vb(df, 'age_category', 'gender')"
   ]
  },
  {
   "cell_type": "markdown",
   "metadata": {},
   "source": [
    "> **notes:** \n",
    "* in the first two categories we have the number of females is almost equal to the number of males,\n",
    "* in the three least categories the number of females is almost twice the number of males."
   ]
  },
  {
   "cell_type": "markdown",
   "metadata": {},
   "source": [
    "__5.How many patients have (a scholarship / don't have it), and what's the proportion of no-showing up at the appointment for each situation?__"
   ]
  },
  {
   "cell_type": "code",
   "execution_count": 38,
   "metadata": {},
   "outputs": [
    {
     "data": {
      "image/png": "[encoded data removed]",
      "text/plain": [
       "<Figure size 432x288 with 1 Axes>"
      ]
     },
     "metadata": {
      "needs_background": "light"
     },
     "output_type": "display_data"
    }
   ],
   "source": [
    "# scholarship count plot\n",
    "count_plot_one_vb(df, 'scholarship',4)"
   ]
  },
  {
   "cell_type": "code",
   "execution_count": 39,
   "metadata": {},
   "outputs": [
    {
     "data": {
      "text/html": [
       "<div>\n",
       "<style scoped>\n",
       "    .dataframe tbody tr th:only-of-type {\n",
       "        vertical-align: middle;\n",
       "    }\n",
       "\n",
       "    .dataframe tbody tr th {\n",
       "        vertical-align: top;\n",
       "    }\n",
       "\n",
       "    .dataframe thead th {\n",
       "        text-align: right;\n",
       "    }\n",
       "</style>\n",
       "<table border=\"1\" class=\"dataframe\">\n",
       "  <thead>\n",
       "    <tr style=\"text-align: right;\">\n",
       "      <th>appointment</th>\n",
       "      <th>Show</th>\n",
       "      <th>No Show</th>\n",
       "      <th>All</th>\n",
       "    </tr>\n",
       "    <tr>\n",
       "      <th>scholarship</th>\n",
       "      <th></th>\n",
       "      <th></th>\n",
       "      <th></th>\n",
       "    </tr>\n",
       "  </thead>\n",
       "  <tbody>\n",
       "    <tr>\n",
       "      <th>No Scholarship</th>\n",
       "      <td>79783</td>\n",
       "      <td>19701</td>\n",
       "      <td>99484</td>\n",
       "    </tr>\n",
       "    <tr>\n",
       "      <th>Scholarship</th>\n",
       "      <td>8266</td>\n",
       "      <td>2577</td>\n",
       "      <td>10843</td>\n",
       "    </tr>\n",
       "    <tr>\n",
       "      <th>All</th>\n",
       "      <td>88049</td>\n",
       "      <td>22278</td>\n",
       "      <td>110327</td>\n",
       "    </tr>\n",
       "  </tbody>\n",
       "</table>\n",
       "</div>"
      ],
      "text/plain": [
       "appointment      Show  No Show     All\n",
       "scholarship                           \n",
       "No Scholarship  79783    19701   99484\n",
       "Scholarship      8266     2577   10843\n",
       "All             88049    22278  110327"
      ]
     },
     "execution_count": 39,
     "metadata": {},
     "output_type": "execute_result"
    },
    {
     "data": {
      "image/png": "[encoded data removed]",
      "text/plain": [
       "<Figure size 432x288 with 1 Axes>"
      ]
     },
     "metadata": {
      "needs_background": "light"
     },
     "output_type": "display_data"
    },
    {
     "data": {
      "image/png": "[encoded data removed]",
      "text/plain": [
       "<Figure size 720x360 with 1 Axes>"
      ]
     },
     "metadata": {
      "needs_background": "light"
     },
     "output_type": "display_data"
    }
   ],
   "source": [
    "# stacked bar chart 'appointment' by Scholarship \n",
    "stacked_bar_appointment_with_vb(df, 'scholarship')\n",
    "# bar chart comparison the proportion of (show/no show) by 'scholarship' variable.\n",
    "rate_bar_chart_2vb(df, 'scholarship', 'appointment')"
   ]
  },
  {
   "cell_type": "markdown",
   "metadata": {},
   "source": [
    "> **notes:** <br />\n",
    "let's focus on the no show rates because it's the matter of our study \n",
    "* for the patients who have a scholarship, we have `2577` patients who not showed up at their appointments, which makes `23,77%` of all `10843` patients,\n",
    "* for the patients who haven't a scholarship, we have `19701` patients who not showed up at their appointments, which makes `19.8%` of all `99484` patients,\n",
    "* It seems to be given a scholarship may contribute to increasing the no showing rate."
   ]
  },
  {
   "cell_type": "markdown",
   "metadata": {},
   "source": [
    "__6. How many patients have( hypertension / don't have it), and what's the proportion of no-showing up at the appointment for each situation?__"
   ]
  },
  {
   "cell_type": "code",
   "execution_count": 40,
   "metadata": {},
   "outputs": [
    {
     "data": {
      "image/png": "[encoded data removed]",
      "text/plain": [
       "<Figure size 432x288 with 1 Axes>"
      ]
     },
     "metadata": {
      "needs_background": "light"
     },
     "output_type": "display_data"
    }
   ],
   "source": [
    "# hypertension count plot\n",
    "count_plot_one_vb(df, 'hypertension',3)"
   ]
  },
  {
   "cell_type": "code",
   "execution_count": 41,
   "metadata": {},
   "outputs": [
    {
     "data": {
      "text/html": [
       "<div>\n",
       "<style scoped>\n",
       "    .dataframe tbody tr th:only-of-type {\n",
       "        vertical-align: middle;\n",
       "    }\n",
       "\n",
       "    .dataframe tbody tr th {\n",
       "        vertical-align: top;\n",
       "    }\n",
       "\n",
       "    .dataframe thead th {\n",
       "        text-align: right;\n",
       "    }\n",
       "</style>\n",
       "<table border=\"1\" class=\"dataframe\">\n",
       "  <thead>\n",
       "    <tr style=\"text-align: right;\">\n",
       "      <th>appointment</th>\n",
       "      <th>Show</th>\n",
       "      <th>No Show</th>\n",
       "      <th>All</th>\n",
       "    </tr>\n",
       "    <tr>\n",
       "      <th>hypertension</th>\n",
       "      <th></th>\n",
       "      <th></th>\n",
       "      <th></th>\n",
       "    </tr>\n",
       "  </thead>\n",
       "  <tbody>\n",
       "    <tr>\n",
       "      <th>No Hypertension</th>\n",
       "      <td>70081</td>\n",
       "      <td>18530</td>\n",
       "      <td>88611</td>\n",
       "    </tr>\n",
       "    <tr>\n",
       "      <th>Hypertension</th>\n",
       "      <td>17968</td>\n",
       "      <td>3748</td>\n",
       "      <td>21716</td>\n",
       "    </tr>\n",
       "    <tr>\n",
       "      <th>All</th>\n",
       "      <td>88049</td>\n",
       "      <td>22278</td>\n",
       "      <td>110327</td>\n",
       "    </tr>\n",
       "  </tbody>\n",
       "</table>\n",
       "</div>"
      ],
      "text/plain": [
       "appointment       Show  No Show     All\n",
       "hypertension                           \n",
       "No Hypertension  70081    18530   88611\n",
       "Hypertension     17968     3748   21716\n",
       "All              88049    22278  110327"
      ]
     },
     "execution_count": 41,
     "metadata": {},
     "output_type": "execute_result"
    },
    {
     "data": {
      "image/png": "[encoded data removed]",
      "text/plain": [
       "<Figure size 432x288 with 1 Axes>"
      ]
     },
     "metadata": {
      "needs_background": "light"
     },
     "output_type": "display_data"
    },
    {
     "data": {
      "image/png": "[encoded data removed]",
      "text/plain": [
       "<Figure size 720x360 with 1 Axes>"
      ]
     },
     "metadata": {
      "needs_background": "light"
     },
     "output_type": "display_data"
    }
   ],
   "source": [
    "# stacked bar chart 'appointment' by hypertension \n",
    "stacked_bar_appointment_with_vb(df, 'hypertension')\n",
    "# bar chart comparison the proportion of (show/no show) by 'hypertension' variable.\n",
    "rate_bar_chart_2vb(df, 'hypertension','appointment')"
   ]
  },
  {
   "cell_type": "markdown",
   "metadata": {},
   "source": [
    "> **notes:** <br />\n",
    "let's focus on the no show rates because it's the matter of our study\n",
    "* for the patients who have an hypertension, we have `3748` patients who not showed up at their appointments, which makes `17.26%` of all `21716` patients,\n",
    "* for the patients who haven't an hypertension, we have `18530` patients who not showed up at their appointments, which makes `20.91%` of all `88611` patients,\n",
    "* the no showing rate of the patients having an hypertension is less than those who haven't an hypertension.\n",
    "* It seems to have an hypertension may contribute to decreasing the no showing rate."
   ]
  },
  {
   "cell_type": "markdown",
   "metadata": {},
   "source": [
    "__7. How many patients are (diabetics / not diabetics), and what's the proportion of no-showing up at the appointment for each situation?__"
   ]
  },
  {
   "cell_type": "code",
   "execution_count": 42,
   "metadata": {},
   "outputs": [
    {
     "data": {
      "image/png": "[encoded data removed]",
      "text/plain": [
       "<Figure size 432x288 with 1 Axes>"
      ]
     },
     "metadata": {
      "needs_background": "light"
     },
     "output_type": "display_data"
    }
   ],
   "source": [
    "# diabetes count plot\n",
    "count_plot_one_vb(df, 'diabetes',8)"
   ]
  },
  {
   "cell_type": "code",
   "execution_count": 43,
   "metadata": {},
   "outputs": [
    {
     "data": {
      "text/html": [
       "<div>\n",
       "<style scoped>\n",
       "    .dataframe tbody tr th:only-of-type {\n",
       "        vertical-align: middle;\n",
       "    }\n",
       "\n",
       "    .dataframe tbody tr th {\n",
       "        vertical-align: top;\n",
       "    }\n",
       "\n",
       "    .dataframe thead th {\n",
       "        text-align: right;\n",
       "    }\n",
       "</style>\n",
       "<table border=\"1\" class=\"dataframe\">\n",
       "  <thead>\n",
       "    <tr style=\"text-align: right;\">\n",
       "      <th>appointment</th>\n",
       "      <th>Show</th>\n",
       "      <th>No Show</th>\n",
       "      <th>All</th>\n",
       "    </tr>\n",
       "    <tr>\n",
       "      <th>diabetes</th>\n",
       "      <th></th>\n",
       "      <th></th>\n",
       "      <th></th>\n",
       "    </tr>\n",
       "  </thead>\n",
       "  <tbody>\n",
       "    <tr>\n",
       "      <th>No Diabetes</th>\n",
       "      <td>81571</td>\n",
       "      <td>20856</td>\n",
       "      <td>102427</td>\n",
       "    </tr>\n",
       "    <tr>\n",
       "      <th>Diabetes</th>\n",
       "      <td>6478</td>\n",
       "      <td>1422</td>\n",
       "      <td>7900</td>\n",
       "    </tr>\n",
       "    <tr>\n",
       "      <th>All</th>\n",
       "      <td>88049</td>\n",
       "      <td>22278</td>\n",
       "      <td>110327</td>\n",
       "    </tr>\n",
       "  </tbody>\n",
       "</table>\n",
       "</div>"
      ],
      "text/plain": [
       "appointment   Show  No Show     All\n",
       "diabetes                           \n",
       "No Diabetes  81571    20856  102427\n",
       "Diabetes      6478     1422    7900\n",
       "All          88049    22278  110327"
      ]
     },
     "execution_count": 43,
     "metadata": {},
     "output_type": "execute_result"
    },
    {
     "data": {
      "image/png": "[encoded data removed]",
      "text/plain": [
       "<Figure size 432x288 with 1 Axes>"
      ]
     },
     "metadata": {
      "needs_background": "light"
     },
     "output_type": "display_data"
    },
    {
     "data": {
      "image/png": "[encoded data removed]",
      "text/plain": [
       "<Figure size 720x360 with 1 Axes>"
      ]
     },
     "metadata": {
      "needs_background": "light"
     },
     "output_type": "display_data"
    }
   ],
   "source": [
    "# stacked bar chart 'appointment' by diabetes \n",
    "stacked_bar_appointment_with_vb(df, 'diabetes')\n",
    "# bar chart comparison the proportion of (show/no show) by 'diabetes' variable.\n",
    "rate_bar_chart_2vb(df, 'diabetes','appointment')"
   ]
  },
  {
   "cell_type": "markdown",
   "metadata": {},
   "source": [
    "> **notes:** <br />\n",
    "let's focus on the no show rates  \n",
    "* for the patients who have a diabetes, we have `1422` patients who not showed up at their appointments, which makes `18%` of all `7900` patients,\n",
    "* for the patients who haven't a diabetes, we have `20856` patients who not showed up at their appointments, which makes `20.36%` of all `102427` patients,\n",
    "* the no showing rate of the patients having a diabetes is less than those who haven't a diabetes.\n",
    "* It seems to have a diabetes may contribute to decreasing the no showing rate."
   ]
  },
  {
   "cell_type": "markdown",
   "metadata": {},
   "source": [
    "<a id='conclusions'></a>\n",
    "## Conclusions <a href=\"#top\"></a>\n",
    "\n",
    "> As mentioned in the introduction, this study remains descriptive and limited to only 6 variables, and in no way provides real and precise explanations for The reasons why patients do not showed up for their scheduled medical appointments because there are any inferential statistics included, however it indicates some factors that may cause this behavior.\n",
    "\n",
    "> **After analyzing these 6 variables, we reach the results below**:\n",
    "* The overall no-showing rate is `20.2%`, less than the overall show-up rate (`79.8%`).\n",
    "* The percentage of females is greater than males _ `65% > 35%`.\n",
    "* From the age `0 to 17`, the number of females is almost equal to the number of males,\n",
    "* From the age `18 to 115`, the number of females is almost twice the number of males.\n",
    "* There is no significant effect of gender on no-showing rate (20% for each gender).\n",
    "* The most frequent age categories are [`3 - 17`])and ([`18 - 39`] which they mark the highest rates of no-showing `23.5%` for both.\n",
    "* There is an effect of `age` on the patients no-showing rate.\n",
    "* The percentage of having a scholarship is much less than not having a scholarship _ `9.8% < 90.2%`.\n",
    "* The percentage of having an hypertension is much less than not having an hypertension _ `19.7% < 80.3%`.\n",
    "* The percentage of the diabetic patients is much less than the non-diabetic patients _ `7.2% < 92.8%` are s\n",
    "* The data provided is not sufficient to confirm the answer to the research question, and this study remains descriptive because it is limited to only 6 variables, so we need an inference statistic or a machine learning model.\n",
    "* The volume of sample is not good for making a good judgment about research questions"
   ]
  },
  {
   "cell_type": "markdown",
   "metadata": {},
   "source": [
    "<a id='references'></a>\n",
    "## References  <a href=\"#top\"></a>\n",
    "* https://pandas.pydata.org/\n",
    "* https://numpy.org/\n",
    "* https://matplotlib.org/\n",
    "* https://seaborn.pydata.org/\n",
    "* https://www.kaggle.com/\n",
    "* https://classroom.udacity.com/nanodegrees/\n",
    "* https://stackoverflow.com/\n",
    "* https://stackexchange.com/\n",
    "* https://daringfireball.net/projects/markdown/syntax#list\n",
    "* https://en.wikipedia.org/wiki/Bolsa_Fam%C3%ADlia"
   ]
  },
  {
   "cell_type": "code",
   "execution_count": null,
   "metadata": {},
   "outputs": [],
   "source": []
  }
 ],
 "metadata": {
  "kernelspec": {
   "display_name": "Python 3",
   "language": "python",
   "name": "python3"
  },
  "language_info": {
   "codemirror_mode": {
    "name": "ipython",
    "version": 3
   },
   "file_extension": ".py",
   "mimetype": "text/x-python",
   "name": "python",
   "nbconvert_exporter": "python",
   "pygments_lexer": "ipython3",
   "version": "3.7.6"
  }
 },
 "nbformat": 4,
 "nbformat_minor": 4
}
